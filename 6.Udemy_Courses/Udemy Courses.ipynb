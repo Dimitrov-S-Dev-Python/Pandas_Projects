{
 "cells":[
  {
   "cell_type":"markdown",
   "source":[
    "[Download Dataset](https:\/\/www.kaggle.com\/datasets\/andrewmvd\/udemy-courses)"
   ],
   "attachments":{
    
   },
   "metadata":{
    "datalore":{
     "node_id":"d9u2dSzlPfTyqR1WHrCmAO",
     "type":"MD",
     "hide_input_from_viewers":false,
     "hide_output_from_viewers":false,
     "report_properties":{
      "rowId":"15vwjBug7ZS1YjPVbQjKgt"
     }
    }
   }
  },
  {
   "cell_type":"code",
   "source":[
    "import pandas as pd\n",
    "import seaborn as sns"
   ],
   "execution_count":1,
   "outputs":[
    
   ],
   "metadata":{
    "datalore":{
     "node_id":"2bCsXvruOrLmGlkES1btyR",
     "type":"CODE",
     "hide_input_from_viewers":false,
     "hide_output_from_viewers":false,
     "report_properties":{
      "rowId":"ruEnQstNHAQoWkmCSk9egR"
     }
    }
   }
  },
  {
   "cell_type":"code",
   "source":[
    "df = pd.read_csv('udemy_courses.csv', parse_dates=[\"published_timestamp\"])"
   ],
   "execution_count":2,
   "outputs":[
    
   ],
   "metadata":{
    "datalore":{
     "node_id":"9vPz1bJ91QMbNDoIqKHngk",
     "type":"CODE",
     "hide_input_from_viewers":false,
     "hide_output_from_viewers":false,
     "report_properties":{
      "rowId":"JpDPgXwDTLmSJUfGFDxgQW"
     }
    }
   }
  },
  {
   "cell_type":"code",
   "source":[
    "df.dtypes"
   ],
   "execution_count":3,
   "outputs":[
    {
     "data":{
      "text\/html":[
       "<pre>course_id                            int64\n",
       "course_title                        object\n",
       "url                                 object\n",
       "is_paid                               bool\n",
       "price                                int64\n",
       "num_subscribers                      int64\n",
       "num_reviews                          int64\n",
       "num_lectures                         int64\n",
       "level                               object\n",
       "content_duration                   float64\n",
       "published_timestamp    datetime64[ns, UTC]\n",
       "subject                             object\n",
       "dtype: object<\/pre>"
      ]
     },
     "metadata":{
      
     },
     "output_type":"display_data"
    }
   ],
   "metadata":{
    "datalore":{
     "node_id":"xRntpjH1sEiGo4UFDQdAKN",
     "type":"CODE",
     "hide_input_from_viewers":true,
     "hide_output_from_viewers":true
    }
   }
  },
  {
   "cell_type":"markdown",
   "source":[
    "### 1. Display top 10 rows of the Dataset"
   ],
   "attachments":{
    
   },
   "metadata":{
    "datalore":{
     "node_id":"zyuskolLbbIMNO9pVutKUx",
     "type":"MD",
     "hide_input_from_viewers":true,
     "hide_output_from_viewers":true
    }
   }
  },
  {
   "cell_type":"code",
   "source":[
    "df.head(10)"
   ],
   "execution_count":4,
   "outputs":[
    {
     "data":{
      "text\/html":[
       "<div>\n",
       "<style scoped>\n",
       "    .dataframe tbody tr th:only-of-type {\n",
       "        vertical-align: middle;\n",
       "    }\n",
       "\n",
       "    .dataframe tbody tr th {\n",
       "        vertical-align: top;\n",
       "    }\n",
       "\n",
       "    .dataframe thead th {\n",
       "        text-align: right;\n",
       "    }\n",
       "<\/style>\n",
       "<table border=\"1\" class=\"dataframe\">\n",
       "  <thead>\n",
       "    <tr style=\"text-align: right;\">\n",
       "      <th><\/th>\n",
       "      <th>course_id<\/th>\n",
       "      <th>course_title<\/th>\n",
       "      <th>url<\/th>\n",
       "      <th>is_paid<\/th>\n",
       "      <th>price<\/th>\n",
       "      <th>num_subscribers<\/th>\n",
       "      <th>num_reviews<\/th>\n",
       "      <th>num_lectures<\/th>\n",
       "      <th>level<\/th>\n",
       "      <th>content_duration<\/th>\n",
       "      <th>published_timestamp<\/th>\n",
       "      <th>subject<\/th>\n",
       "    <\/tr>\n",
       "  <\/thead>\n",
       "  <tbody>\n",
       "    <tr>\n",
       "      <th>0<\/th>\n",
       "      <td>1070968<\/td>\n",
       "      <td>Ultimate Investment Banking Course<\/td>\n",
       "      <td>https:\/\/www.udemy.com\/ultimate-investment-bank...<\/td>\n",
       "      <td>True<\/td>\n",
       "      <td>200<\/td>\n",
       "      <td>2147<\/td>\n",
       "      <td>23<\/td>\n",
       "      <td>51<\/td>\n",
       "      <td>All Levels<\/td>\n",
       "      <td>1.5<\/td>\n",
       "      <td>2017-01-18 20:58:58+00:00<\/td>\n",
       "      <td>Business Finance<\/td>\n",
       "    <\/tr>\n",
       "    <tr>\n",
       "      <th>1<\/th>\n",
       "      <td>1113822<\/td>\n",
       "      <td>Complete GST Course &amp; Certification - Grow You...<\/td>\n",
       "      <td>https:\/\/www.udemy.com\/goods-and-services-tax\/<\/td>\n",
       "      <td>True<\/td>\n",
       "      <td>75<\/td>\n",
       "      <td>2792<\/td>\n",
       "      <td>923<\/td>\n",
       "      <td>274<\/td>\n",
       "      <td>All Levels<\/td>\n",
       "      <td>39.0<\/td>\n",
       "      <td>2017-03-09 16:34:20+00:00<\/td>\n",
       "      <td>Business Finance<\/td>\n",
       "    <\/tr>\n",
       "    <tr>\n",
       "      <th>2<\/th>\n",
       "      <td>1006314<\/td>\n",
       "      <td>Financial Modeling for Business Analysts and C...<\/td>\n",
       "      <td>https:\/\/www.udemy.com\/financial-modeling-for-b...<\/td>\n",
       "      <td>True<\/td>\n",
       "      <td>45<\/td>\n",
       "      <td>2174<\/td>\n",
       "      <td>74<\/td>\n",
       "      <td>51<\/td>\n",
       "      <td>Intermediate Level<\/td>\n",
       "      <td>2.5<\/td>\n",
       "      <td>2016-12-19 19:26:30+00:00<\/td>\n",
       "      <td>Business Finance<\/td>\n",
       "    <\/tr>\n",
       "    <tr>\n",
       "      <th>3<\/th>\n",
       "      <td>1210588<\/td>\n",
       "      <td>Beginner to Pro - Financial Analysis in Excel ...<\/td>\n",
       "      <td>https:\/\/www.udemy.com\/complete-excel-finance-c...<\/td>\n",
       "      <td>True<\/td>\n",
       "      <td>95<\/td>\n",
       "      <td>2451<\/td>\n",
       "      <td>11<\/td>\n",
       "      <td>36<\/td>\n",
       "      <td>All Levels<\/td>\n",
       "      <td>3.0<\/td>\n",
       "      <td>2017-05-30 20:07:24+00:00<\/td>\n",
       "      <td>Business Finance<\/td>\n",
       "    <\/tr>\n",
       "    <tr>\n",
       "      <th>4<\/th>\n",
       "      <td>1011058<\/td>\n",
       "      <td>How To Maximize Your Profits Trading Options<\/td>\n",
       "      <td>https:\/\/www.udemy.com\/how-to-maximize-your-pro...<\/td>\n",
       "      <td>True<\/td>\n",
       "      <td>200<\/td>\n",
       "      <td>1276<\/td>\n",
       "      <td>45<\/td>\n",
       "      <td>26<\/td>\n",
       "      <td>Intermediate Level<\/td>\n",
       "      <td>2.0<\/td>\n",
       "      <td>2016-12-13 14:57:18+00:00<\/td>\n",
       "      <td>Business Finance<\/td>\n",
       "    <\/tr>\n",
       "    <tr>\n",
       "      <th>5<\/th>\n",
       "      <td>192870<\/td>\n",
       "      <td>Trading Penny Stocks: A Guide for All Levels I...<\/td>\n",
       "      <td>https:\/\/www.udemy.com\/trading-penny-stocks-a-g...<\/td>\n",
       "      <td>True<\/td>\n",
       "      <td>150<\/td>\n",
       "      <td>9221<\/td>\n",
       "      <td>138<\/td>\n",
       "      <td>25<\/td>\n",
       "      <td>All Levels<\/td>\n",
       "      <td>3.0<\/td>\n",
       "      <td>2014-05-02 15:13:30+00:00<\/td>\n",
       "      <td>Business Finance<\/td>\n",
       "    <\/tr>\n",
       "    <tr>\n",
       "      <th>6<\/th>\n",
       "      <td>739964<\/td>\n",
       "      <td>Investing And Trading For Beginners: Mastering...<\/td>\n",
       "      <td>https:\/\/www.udemy.com\/investing-and-trading-fo...<\/td>\n",
       "      <td>True<\/td>\n",
       "      <td>65<\/td>\n",
       "      <td>1540<\/td>\n",
       "      <td>178<\/td>\n",
       "      <td>26<\/td>\n",
       "      <td>Beginner Level<\/td>\n",
       "      <td>1.0<\/td>\n",
       "      <td>2016-02-21 18:23:12+00:00<\/td>\n",
       "      <td>Business Finance<\/td>\n",
       "    <\/tr>\n",
       "    <tr>\n",
       "      <th>7<\/th>\n",
       "      <td>403100<\/td>\n",
       "      <td>Trading Stock Chart Patterns For Immediate, Ex...<\/td>\n",
       "      <td>https:\/\/www.udemy.com\/trading-chart-patterns-f...<\/td>\n",
       "      <td>True<\/td>\n",
       "      <td>95<\/td>\n",
       "      <td>2917<\/td>\n",
       "      <td>148<\/td>\n",
       "      <td>23<\/td>\n",
       "      <td>All Levels<\/td>\n",
       "      <td>2.5<\/td>\n",
       "      <td>2015-01-30 22:13:03+00:00<\/td>\n",
       "      <td>Business Finance<\/td>\n",
       "    <\/tr>\n",
       "    <tr>\n",
       "      <th>8<\/th>\n",
       "      <td>476268<\/td>\n",
       "      <td>Options Trading 3 : Advanced Stock Profit and ...<\/td>\n",
       "      <td>https:\/\/www.udemy.com\/day-trading-stock-option...<\/td>\n",
       "      <td>True<\/td>\n",
       "      <td>195<\/td>\n",
       "      <td>5172<\/td>\n",
       "      <td>34<\/td>\n",
       "      <td>38<\/td>\n",
       "      <td>Expert Level<\/td>\n",
       "      <td>2.5<\/td>\n",
       "      <td>2015-05-28 00:14:03+00:00<\/td>\n",
       "      <td>Business Finance<\/td>\n",
       "    <\/tr>\n",
       "    <tr>\n",
       "      <th>9<\/th>\n",
       "      <td>1167710<\/td>\n",
       "      <td>The Only Investment Strategy You Need For Your...<\/td>\n",
       "      <td>https:\/\/www.udemy.com\/the-only-investment-stra...<\/td>\n",
       "      <td>True<\/td>\n",
       "      <td>200<\/td>\n",
       "      <td>827<\/td>\n",
       "      <td>14<\/td>\n",
       "      <td>15<\/td>\n",
       "      <td>All Levels<\/td>\n",
       "      <td>1.0<\/td>\n",
       "      <td>2017-04-18 18:13:32+00:00<\/td>\n",
       "      <td>Business Finance<\/td>\n",
       "    <\/tr>\n",
       "  <\/tbody>\n",
       "<\/table>\n",
       "<\/div>"
      ]
     },
     "metadata":{
      
     },
     "output_type":"display_data"
    }
   ],
   "metadata":{
    "datalore":{
     "node_id":"Dlcq8tOhBlqBqZMdlXi2il",
     "type":"CODE",
     "hide_input_from_viewers":true,
     "hide_output_from_viewers":true
    }
   }
  },
  {
   "cell_type":"markdown",
   "source":[
    "### 2. Check last 5 rows of the Dataset"
   ],
   "attachments":{
    
   },
   "metadata":{
    "datalore":{
     "node_id":"I76zCuXUutwNmSbSrgkhr9",
     "type":"MD",
     "hide_input_from_viewers":false,
     "hide_output_from_viewers":false,
     "report_properties":{
      "rowId":"a262TKNHr5f5JK8MlPb1hG"
     }
    }
   }
  },
  {
   "cell_type":"code",
   "source":[
    "df.tail()"
   ],
   "execution_count":5,
   "outputs":[
    {
     "data":{
      "text\/html":[
       "<div>\n",
       "<style scoped>\n",
       "    .dataframe tbody tr th:only-of-type {\n",
       "        vertical-align: middle;\n",
       "    }\n",
       "\n",
       "    .dataframe tbody tr th {\n",
       "        vertical-align: top;\n",
       "    }\n",
       "\n",
       "    .dataframe thead th {\n",
       "        text-align: right;\n",
       "    }\n",
       "<\/style>\n",
       "<table border=\"1\" class=\"dataframe\">\n",
       "  <thead>\n",
       "    <tr style=\"text-align: right;\">\n",
       "      <th><\/th>\n",
       "      <th>course_id<\/th>\n",
       "      <th>course_title<\/th>\n",
       "      <th>url<\/th>\n",
       "      <th>is_paid<\/th>\n",
       "      <th>price<\/th>\n",
       "      <th>num_subscribers<\/th>\n",
       "      <th>num_reviews<\/th>\n",
       "      <th>num_lectures<\/th>\n",
       "      <th>level<\/th>\n",
       "      <th>content_duration<\/th>\n",
       "      <th>published_timestamp<\/th>\n",
       "      <th>subject<\/th>\n",
       "    <\/tr>\n",
       "  <\/thead>\n",
       "  <tbody>\n",
       "    <tr>\n",
       "      <th>3673<\/th>\n",
       "      <td>775618<\/td>\n",
       "      <td>Learn jQuery from Scratch - Master of JavaScri...<\/td>\n",
       "      <td>https:\/\/www.udemy.com\/easy-jquery-for-beginner...<\/td>\n",
       "      <td>True<\/td>\n",
       "      <td>100<\/td>\n",
       "      <td>1040<\/td>\n",
       "      <td>14<\/td>\n",
       "      <td>21<\/td>\n",
       "      <td>All Levels<\/td>\n",
       "      <td>2.0<\/td>\n",
       "      <td>2016-06-14 17:36:46+00:00<\/td>\n",
       "      <td>Web Development<\/td>\n",
       "    <\/tr>\n",
       "    <tr>\n",
       "      <th>3674<\/th>\n",
       "      <td>1088178<\/td>\n",
       "      <td>How To Design A WordPress Website With No Codi...<\/td>\n",
       "      <td>https:\/\/www.udemy.com\/how-to-make-a-wordpress-...<\/td>\n",
       "      <td>True<\/td>\n",
       "      <td>25<\/td>\n",
       "      <td>306<\/td>\n",
       "      <td>3<\/td>\n",
       "      <td>42<\/td>\n",
       "      <td>Beginner Level<\/td>\n",
       "      <td>3.5<\/td>\n",
       "      <td>2017-03-10 22:24:30+00:00<\/td>\n",
       "      <td>Web Development<\/td>\n",
       "    <\/tr>\n",
       "    <tr>\n",
       "      <th>3675<\/th>\n",
       "      <td>635248<\/td>\n",
       "      <td>Learn and Build using Polymer<\/td>\n",
       "      <td>https:\/\/www.udemy.com\/learn-and-build-using-po...<\/td>\n",
       "      <td>True<\/td>\n",
       "      <td>40<\/td>\n",
       "      <td>513<\/td>\n",
       "      <td>169<\/td>\n",
       "      <td>48<\/td>\n",
       "      <td>All Levels<\/td>\n",
       "      <td>3.5<\/td>\n",
       "      <td>2015-12-30 16:41:42+00:00<\/td>\n",
       "      <td>Web Development<\/td>\n",
       "    <\/tr>\n",
       "    <tr>\n",
       "      <th>3676<\/th>\n",
       "      <td>905096<\/td>\n",
       "      <td>CSS Animations: Create Amazing Effects on Your...<\/td>\n",
       "      <td>https:\/\/www.udemy.com\/css-animations-create-am...<\/td>\n",
       "      <td>True<\/td>\n",
       "      <td>50<\/td>\n",
       "      <td>300<\/td>\n",
       "      <td>31<\/td>\n",
       "      <td>38<\/td>\n",
       "      <td>All Levels<\/td>\n",
       "      <td>3.0<\/td>\n",
       "      <td>2016-08-11 19:06:15+00:00<\/td>\n",
       "      <td>Web Development<\/td>\n",
       "    <\/tr>\n",
       "    <tr>\n",
       "      <th>3677<\/th>\n",
       "      <td>297602<\/td>\n",
       "      <td>Using MODX CMS to Build Websites: A Beginner's...<\/td>\n",
       "      <td>https:\/\/www.udemy.com\/using-modx-cms-to-build-...<\/td>\n",
       "      <td>True<\/td>\n",
       "      <td>45<\/td>\n",
       "      <td>901<\/td>\n",
       "      <td>36<\/td>\n",
       "      <td>20<\/td>\n",
       "      <td>Beginner Level<\/td>\n",
       "      <td>2.0<\/td>\n",
       "      <td>2014-09-28 19:51:11+00:00<\/td>\n",
       "      <td>Web Development<\/td>\n",
       "    <\/tr>\n",
       "  <\/tbody>\n",
       "<\/table>\n",
       "<\/div>"
      ]
     },
     "metadata":{
      
     },
     "output_type":"display_data"
    }
   ],
   "metadata":{
    "datalore":{
     "node_id":"28Kt5SLUiRMSkFDbLWPQQP",
     "type":"CODE",
     "hide_input_from_viewers":true,
     "hide_output_from_viewers":true
    }
   }
  },
  {
   "cell_type":"markdown",
   "source":[
    "### 3. Find shape of our Dataset (number of rows & number of columns)"
   ],
   "attachments":{
    
   },
   "metadata":{
    "datalore":{
     "node_id":"9VxqIc1nAuz0mDQzKZ0iji",
     "type":"MD",
     "hide_input_from_viewers":false,
     "hide_output_from_viewers":false,
     "report_properties":{
      "rowId":"F58Nqk8bofUstoTt7LvVJy"
     }
    }
   }
  },
  {
   "cell_type":"code",
   "source":[
    "rows, cols = df.shape\n",
    "print(f\"Number of rows: {rows}\")\n",
    "print(f\"Number of cols: {cols}\")"
   ],
   "execution_count":6,
   "outputs":[
    {
     "name":"stdout",
     "text":[
      "Number of rows: 3678\n",
      "Number of cols: 12\n"
     ],
     "output_type":"stream"
    }
   ],
   "metadata":{
    "datalore":{
     "node_id":"Sem7kLHAyzffzKwlu3YXY3",
     "type":"CODE",
     "hide_input_from_viewers":true,
     "hide_output_from_viewers":true
    }
   }
  },
  {
   "cell_type":"markdown",
   "source":[
    "### 4. Get information about our Dataset like total number rows, total number of columns, datatypes of each column and memory requirement"
   ],
   "attachments":{
    
   },
   "metadata":{
    "datalore":{
     "node_id":"JAaicoLeODUUTcSwoN6lqs",
     "type":"MD",
     "hide_input_from_viewers":false,
     "hide_output_from_viewers":false,
     "report_properties":{
      "rowId":"Bo3DJqwb3gJKhugzrdRdXB"
     }
    }
   }
  },
  {
   "cell_type":"code",
   "source":[
    "df.info()"
   ],
   "execution_count":7,
   "outputs":[
    {
     "name":"stdout",
     "text":[
      "<class 'pandas.core.frame.DataFrame'>\n",
      "RangeIndex: 3678 entries, 0 to 3677\n",
      "Data columns (total 12 columns):\n",
      " #   Column               Non-Null Count  Dtype              \n",
      "---  ------               --------------  -----              \n",
      " 0   course_id            3678 non-null   int64              \n",
      " 1   course_title         3678 non-null   object             \n",
      " 2   url                  3678 non-null   object             \n",
      " 3   is_paid              3678 non-null   bool               \n",
      " 4   price                3678 non-null   int64              \n",
      " 5   num_subscribers      3678 non-null   int64              \n",
      " 6   num_reviews          3678 non-null   int64              \n",
      " 7   num_lectures         3678 non-null   int64              \n",
      " 8   level                3678 non-null   object             \n",
      " 9   content_duration     3678 non-null   float64            \n",
      " 10  published_timestamp  3678 non-null   datetime64[ns, UTC]\n",
      " 11  subject              3678 non-null   object             \n",
      "dtypes: bool(1), datetime64[ns, UTC](1), float64(1), int64(5), object(4)\n",
      "memory usage: 319.8+ KB\n"
     ],
     "output_type":"stream"
    }
   ],
   "metadata":{
    "datalore":{
     "node_id":"iDw8z15bEhrV0LsDbyvVrg",
     "type":"CODE",
     "hide_input_from_viewers":true,
     "hide_output_from_viewers":true
    }
   }
  },
  {
   "cell_type":"markdown",
   "source":[
    "### 5. Check Null values In The Dataset"
   ],
   "attachments":{
    
   },
   "metadata":{
    "datalore":{
     "node_id":"89g1Wbex1T88aYeQApszrR",
     "type":"MD",
     "hide_input_from_viewers":true,
     "hide_output_from_viewers":true
    }
   }
  },
  {
   "cell_type":"code",
   "source":[
    "df.isnull().sum()"
   ],
   "execution_count":8,
   "outputs":[
    {
     "data":{
      "text\/html":[
       "<pre>course_id              0\n",
       "course_title           0\n",
       "url                    0\n",
       "is_paid                0\n",
       "price                  0\n",
       "num_subscribers        0\n",
       "num_reviews            0\n",
       "num_lectures           0\n",
       "level                  0\n",
       "content_duration       0\n",
       "published_timestamp    0\n",
       "subject                0\n",
       "dtype: int64<\/pre>"
      ]
     },
     "metadata":{
      
     },
     "output_type":"display_data"
    }
   ],
   "metadata":{
    "datalore":{
     "node_id":"fMR4X2rv2x63yXUZr55DAs",
     "type":"CODE",
     "hide_input_from_viewers":true,
     "hide_output_from_viewers":true
    }
   }
  },
  {
   "cell_type":"code",
   "source":[
    "null = df.isnull().values.any()\n",
    "print(f\"Are there any null values in the data? {null}\")"
   ],
   "execution_count":14,
   "outputs":[
    {
     "name":"stdout",
     "text":[
      "Are there any null values in the data? False\n"
     ],
     "output_type":"stream"
    }
   ],
   "metadata":{
    "datalore":{
     "node_id":"7GUtjfNv1SFbogF7Sp7DxX",
     "type":"CODE",
     "hide_input_from_viewers":true,
     "hide_output_from_viewers":true
    }
   }
  },
  {
   "cell_type":"code",
   "source":[
    "sns.heatmap(df.isnull())"
   ],
   "execution_count":1,
   "outputs":[
    {
     "ename":"NameError",
     "evalue":"NameError: name 'sns' is not defined",
     "traceback":[
      "\u001b[0;31m---------------------------------------------------------------------------",
      "Traceback (most recent call last)",
      "    at line 1 in <module>",
      "NameError: name 'sns' is not defined"
     ],
     "output_type":"error"
    }
   ],
   "metadata":{
    "datalore":{
     "node_id":"RwWoNdqUpXDEk4wL3A7yH4",
     "type":"CODE",
     "hide_input_from_viewers":true,
     "hide_output_from_viewers":true
    }
   }
  },
  {
   "cell_type":"markdown",
   "source":[
    "### 6. Check for duplicate Data and drop them"
   ],
   "attachments":{
    
   },
   "metadata":{
    "datalore":{
     "node_id":"fyQuupl2PFnqZX8BvbUsnh",
     "type":"MD",
     "hide_input_from_viewers":false,
     "hide_output_from_viewers":false,
     "report_properties":{
      "rowId":"WZXBNmNnhDDtU7fOtiaWkF"
     }
    }
   }
  },
  {
   "cell_type":"code",
   "source":[
    "dup = df.duplicated().any()\n",
    "print(f\"Are there any duplicated values in the data? {dup}\")"
   ],
   "execution_count":17,
   "outputs":[
    {
     "name":"stdout",
     "text":[
      "Are there any duplicated values in the data? True\n"
     ],
     "output_type":"stream"
    }
   ],
   "metadata":{
    "datalore":{
     "node_id":"hUj4PnArpMK2KAlrmqHHCd",
     "type":"CODE",
     "hide_input_from_viewers":true,
     "hide_output_from_viewers":true
    }
   }
  },
  {
   "cell_type":"code",
   "source":[
    "df = df.drop_duplicates(keep=\"first\")"
   ],
   "execution_count":18,
   "outputs":[
    
   ],
   "metadata":{
    "datalore":{
     "node_id":"jSqNcJ6HAaCxGZQixIQne4",
     "type":"CODE",
     "hide_input_from_viewers":true,
     "hide_output_from_viewers":true
    }
   }
  },
  {
   "cell_type":"code",
   "source":[
    "dup = df.duplicated().any()\n",
    "print(f\"Are there any duplicated values in the data? {dup}\")"
   ],
   "execution_count":19,
   "outputs":[
    {
     "name":"stdout",
     "text":[
      "Are there any duplicated values in the data? False\n"
     ],
     "output_type":"stream"
    }
   ],
   "metadata":{
    "datalore":{
     "node_id":"ZB6oIsbg1btk6auIWXTcSS",
     "type":"CODE",
     "hide_input_from_viewers":true,
     "hide_output_from_viewers":true
    }
   }
  },
  {
   "cell_type":"code",
   "source":[
    "df.info()"
   ],
   "execution_count":20,
   "outputs":[
    {
     "name":"stdout",
     "text":[
      "<class 'pandas.core.frame.DataFrame'>\n",
      "Int64Index: 3672 entries, 0 to 3677\n",
      "Data columns (total 12 columns):\n",
      " #   Column               Non-Null Count  Dtype              \n",
      "---  ------               --------------  -----              \n",
      " 0   course_id            3672 non-null   int64              \n",
      " 1   course_title         3672 non-null   object             \n",
      " 2   url                  3672 non-null   object             \n",
      " 3   is_paid              3672 non-null   bool               \n",
      " 4   price                3672 non-null   int64              \n",
      " 5   num_subscribers      3672 non-null   int64              \n",
      " 6   num_reviews          3672 non-null   int64              \n",
      " 7   num_lectures         3672 non-null   int64              \n",
      " 8   level                3672 non-null   object             \n",
      " 9   content_duration     3672 non-null   float64            \n",
      " 10  published_timestamp  3672 non-null   datetime64[ns, UTC]\n",
      " 11  subject              3672 non-null   object             \n",
      "dtypes: bool(1), datetime64[ns, UTC](1), float64(1), int64(5), object(4)\n",
      "memory usage: 347.8+ KB\n"
     ],
     "output_type":"stream"
    }
   ],
   "metadata":{
    "datalore":{
     "node_id":"Q6Aca6ddK9RoX7jrmQ0zuO",
     "type":"CODE",
     "hide_input_from_viewers":true,
     "hide_output_from_viewers":true
    }
   }
  },
  {
   "cell_type":"markdown",
   "source":[
    "### 7. Find out number of courses per subjects"
   ],
   "attachments":{
    
   },
   "metadata":{
    "datalore":{
     "node_id":"C3JnonAGWH4Wmz2ssjTdzk",
     "type":"MD",
     "hide_input_from_viewers":false,
     "hide_output_from_viewers":false,
     "report_properties":{
      "rowId":"NQptsHQNP8xfICi83duinT"
     }
    }
   }
  },
  {
   "cell_type":"code",
   "source":[
    "df.columns"
   ],
   "execution_count":21,
   "outputs":[
    {
     "data":{
      "text\/plain":[
       "Index(['course_id', 'course_title', 'url', 'is_paid', 'price',\n",
       "       'num_subscribers', 'num_reviews', 'num_lectures', 'level',\n",
       "       'content_duration', 'published_timestamp', 'subject'],\n",
       "      dtype='object')"
      ]
     },
     "metadata":{
      
     },
     "output_type":"display_data"
    }
   ],
   "metadata":{
    "datalore":{
     "node_id":"eIokP3skDxjI0rvf2HlS3G",
     "type":"CODE",
     "hide_input_from_viewers":true,
     "hide_output_from_viewers":true
    }
   }
  },
  {
   "cell_type":"code",
   "source":[
    "df['subject'].value_counts()"
   ],
   "execution_count":22,
   "outputs":[
    {
     "data":{
      "text\/html":[
       "<pre>Web Development        1199\n",
       "Business Finance       1191\n",
       "Musical Instruments     680\n",
       "Graphic Design          602\n",
       "Name: subject, dtype: int64<\/pre>"
      ]
     },
     "metadata":{
      
     },
     "output_type":"display_data"
    }
   ],
   "metadata":{
    "datalore":{
     "node_id":"sxzt1Ncw8iKSsW5NmnifkK",
     "type":"CODE",
     "hide_input_from_viewers":true,
     "hide_output_from_viewers":true
    }
   }
  },
  {
   "cell_type":"markdown",
   "source":[
    "### 8. For which levels, udemy courses providing the courses"
   ],
   "attachments":{
    
   },
   "metadata":{
    "datalore":{
     "node_id":"c4xSE5TrUaScZPXDjIjZLb",
     "type":"MD",
     "hide_input_from_viewers":false,
     "hide_output_from_viewers":false,
     "report_properties":{
      "rowId":"qTdfcG5DBFpM3biMRE0JTw"
     }
    }
   }
  },
  {
   "cell_type":"code",
   "source":[
    "df.columns"
   ],
   "execution_count":62,
   "outputs":[
    {
     "data":{
      "text\/plain":[
       "Index(['course_id', 'course_title', 'url', 'is_paid', 'price',\n",
       "       'num_subscribers', 'num_reviews', 'num_lectures', 'level',\n",
       "       'content_duration', 'published_timestamp', 'subject'],\n",
       "      dtype='object')"
      ]
     },
     "metadata":{
      
     },
     "output_type":"display_data"
    }
   ],
   "metadata":{
    "datalore":{
     "node_id":"4pIEw0m78YNUhyjmvbkMOL",
     "type":"CODE",
     "hide_input_from_viewers":true,
     "hide_output_from_viewers":true
    }
   }
  },
  {
   "cell_type":"code",
   "source":[
    "df[\"level\"].value_counts()"
   ],
   "execution_count":91,
   "outputs":[
    {
     "data":{
      "text\/html":[
       "<pre>All Levels            1925\n",
       "Beginner Level        1268\n",
       "Intermediate Level     421\n",
       "Expert Level            58\n",
       "Name: level, dtype: int64<\/pre>"
      ]
     },
     "metadata":{
      
     },
     "output_type":"display_data"
    }
   ],
   "metadata":{
    "datalore":{
     "node_id":"9o5fnRghbpCM6KbCP8KmAG",
     "type":"CODE",
     "hide_input_from_viewers":true,
     "hide_output_from_viewers":true
    }
   }
  },
  {
   "cell_type":"markdown",
   "source":[
    "### 9. Display the count of paid and free courses "
   ],
   "attachments":{
    
   },
   "metadata":{
    "datalore":{
     "node_id":"XIbQQfJkIz24orddkdRTWi",
     "type":"MD",
     "hide_input_from_viewers":false,
     "hide_output_from_viewers":false,
     "report_properties":{
      "rowId":"iAuwdNJMtT7Bx7EX0GNjs9"
     }
    }
   }
  },
  {
   "cell_type":"code",
   "source":[
    "df.columns"
   ],
   "execution_count":64,
   "outputs":[
    {
     "data":{
      "text\/plain":[
       "Index(['course_id', 'course_title', 'url', 'is_paid', 'price',\n",
       "       'num_subscribers', 'num_reviews', 'num_lectures', 'level',\n",
       "       'content_duration', 'published_timestamp', 'subject'],\n",
       "      dtype='object')"
      ]
     },
     "metadata":{
      
     },
     "output_type":"display_data"
    }
   ],
   "metadata":{
    "datalore":{
     "node_id":"Tkt4cXfSr3zZxd5LTMv3Vl",
     "type":"CODE",
     "hide_input_from_viewers":true,
     "hide_output_from_viewers":true
    }
   }
  },
  {
   "cell_type":"code",
   "source":[
    "df[\"is_paid\"].value_counts()"
   ],
   "execution_count":65,
   "outputs":[
    {
     "data":{
      "text\/html":[
       "<pre>True     3362\n",
       "False     310\n",
       "Name: is_paid, dtype: int64<\/pre>"
      ]
     },
     "metadata":{
      
     },
     "output_type":"display_data"
    }
   ],
   "metadata":{
    "datalore":{
     "node_id":"XFQgDeVGbm72k781isE8ke",
     "type":"CODE",
     "hide_input_from_viewers":true,
     "hide_output_from_viewers":true
    }
   }
  },
  {
   "cell_type":"markdown",
   "source":[
    "### 10. Which course has more lectures (free or paid)?"
   ],
   "attachments":{
    
   },
   "metadata":{
    "datalore":{
     "node_id":"ZcTjs8Frc1fx1lW7MjMUvD",
     "type":"MD",
     "hide_input_from_viewers":true,
     "hide_output_from_viewers":true
    }
   }
  },
  {
   "cell_type":"code",
   "source":[
    "df.columns"
   ],
   "execution_count":66,
   "outputs":[
    {
     "data":{
      "text\/plain":[
       "Index(['course_id', 'course_title', 'url', 'is_paid', 'price',\n",
       "       'num_subscribers', 'num_reviews', 'num_lectures', 'level',\n",
       "       'content_duration', 'published_timestamp', 'subject'],\n",
       "      dtype='object')"
      ]
     },
     "metadata":{
      
     },
     "output_type":"display_data"
    }
   ],
   "metadata":{
    "datalore":{
     "node_id":"9rNsFIHkNxJW1IviMOTTUJ",
     "type":"CODE",
     "hide_input_from_viewers":true,
     "hide_output_from_viewers":true
    }
   }
  },
  {
   "cell_type":"code",
   "source":[
    "df.groupby(\"is_paid\")[\"num_lectures\"].mean()"
   ],
   "execution_count":130,
   "outputs":[
    {
     "data":{
      "text\/html":[
       "<pre>is_paid\n",
       "False    21.416129\n",
       "True     41.866746\n",
       "Name: num_lectures, dtype: float64<\/pre>"
      ]
     },
     "metadata":{
      
     },
     "output_type":"display_data"
    }
   ],
   "metadata":{
    "datalore":{
     "node_id":"7EdhUoyArTpEYJ7ULRJyuh",
     "type":"CODE",
     "hide_input_from_viewers":true,
     "hide_output_from_viewers":true
    }
   }
  },
  {
   "cell_type":"markdown",
   "source":[
    "### 11. Which courses have a higher number of subscribers (free or paid)?"
   ],
   "attachments":{
    
   },
   "metadata":{
    "datalore":{
     "node_id":"GVhoaT0oYLdDEskwyYGPiS",
     "type":"MD",
     "hide_input_from_viewers":true,
     "hide_output_from_viewers":true
    }
   }
  },
  {
   "cell_type":"code",
   "source":[
    "df.columns"
   ],
   "execution_count":68,
   "outputs":[
    {
     "data":{
      "text\/plain":[
       "Index(['course_id', 'course_title', 'url', 'is_paid', 'price',\n",
       "       'num_subscribers', 'num_reviews', 'num_lectures', 'level',\n",
       "       'content_duration', 'published_timestamp', 'subject'],\n",
       "      dtype='object')"
      ]
     },
     "metadata":{
      
     },
     "output_type":"display_data"
    }
   ],
   "metadata":{
    "datalore":{
     "node_id":"2NsqMoGXJU5vGKG6MnWgNZ",
     "type":"CODE",
     "hide_input_from_viewers":true,
     "hide_output_from_viewers":true
    }
   }
  },
  {
   "cell_type":"code",
   "source":[
    "df.groupby(\"is_paid\")[\"num_subscribers\"].mean()"
   ],
   "execution_count":132,
   "outputs":[
    {
     "data":{
      "text\/html":[
       "<pre>is_paid\n",
       "False    11533.951613\n",
       "True      2421.270077\n",
       "Name: num_subscribers, dtype: float64<\/pre>"
      ]
     },
     "metadata":{
      
     },
     "output_type":"display_data"
    }
   ],
   "metadata":{
    "datalore":{
     "node_id":"ay1oEiaDHXGlBoDVNcCwYQ",
     "type":"CODE",
     "hide_input_from_viewers":true,
     "hide_output_from_viewers":true
    }
   }
  },
  {
   "cell_type":"markdown",
   "source":[
    "### 12. Which level has the highest number of subscribers?"
   ],
   "attachments":{
    
   },
   "metadata":{
    "datalore":{
     "node_id":"vDbQzzTmT9lC8ITumt0SGz",
     "type":"MD",
     "hide_input_from_viewers":true,
     "hide_output_from_viewers":true
    }
   }
  },
  {
   "cell_type":"code",
   "source":[
    "df.groupby(\"level\")[\"num_subscribers\"].mean()"
   ],
   "execution_count":134,
   "outputs":[
    {
     "data":{
      "text\/html":[
       "<pre>level\n",
       "All Levels            3569.761558\n",
       "Beginner Level        3195.459779\n",
       "Expert Level           865.448276\n",
       "Intermediate Level    1762.482185\n",
       "Name: num_subscribers, dtype: float64<\/pre>"
      ]
     },
     "metadata":{
      
     },
     "output_type":"display_data"
    }
   ],
   "metadata":{
    "datalore":{
     "node_id":"6tQe50JDPxOfFcsi8EvQWo",
     "type":"CODE",
     "hide_input_from_viewers":true,
     "hide_output_from_viewers":true
    }
   }
  },
  {
   "cell_type":"markdown",
   "source":[
    "### 13. Find most popular course title based on number of subscribers"
   ],
   "attachments":{
    
   },
   "metadata":{
    "datalore":{
     "node_id":"6kyOnjixyf382tcrNeqb3S",
     "type":"MD",
     "hide_input_from_viewers":true,
     "hide_output_from_viewers":true
    }
   }
  },
  {
   "cell_type":"code",
   "source":[
    "df.columns"
   ],
   "execution_count":71,
   "outputs":[
    {
     "data":{
      "text\/plain":[
       "Index(['course_id', 'course_title', 'url', 'is_paid', 'price',\n",
       "       'num_subscribers', 'num_reviews', 'num_lectures', 'level',\n",
       "       'content_duration', 'published_timestamp', 'subject'],\n",
       "      dtype='object')"
      ]
     },
     "metadata":{
      
     },
     "output_type":"display_data"
    }
   ],
   "metadata":{
    "datalore":{
     "node_id":"xHKboyaUHzIu4jKLvwlW46",
     "type":"CODE",
     "hide_input_from_viewers":true,
     "hide_output_from_viewers":true
    }
   }
  },
  {
   "cell_type":"code",
   "source":[
    "most_popular = df[\"num_subscribers\"].max() == df[\"num_subscribers\"]\n",
    "df[most_popular][\"course_title\"]"
   ],
   "execution_count":135,
   "outputs":[
    {
     "data":{
      "text\/html":[
       "<pre>2827    Learn HTML5 Programming From Scratch\n",
       "Name: course_title, dtype: object<\/pre>"
      ]
     },
     "metadata":{
      
     },
     "output_type":"display_data"
    }
   ],
   "metadata":{
    "datalore":{
     "node_id":"qAYsbtFZP9UzzA0IpP8uD8",
     "type":"CODE",
     "hide_input_from_viewers":true,
     "hide_output_from_viewers":true
    }
   }
  },
  {
   "cell_type":"markdown",
   "source":[
    "### 14. Display 10 most popular courses as per number of subscribers"
   ],
   "attachments":{
    
   },
   "metadata":{
    "datalore":{
     "node_id":"RLxUH6mbfOj8xzgOaitWB5",
     "type":"MD",
     "hide_input_from_viewers":true,
     "hide_output_from_viewers":true
    }
   }
  },
  {
   "cell_type":"code",
   "source":[
    "df.columns"
   ],
   "execution_count":73,
   "outputs":[
    {
     "data":{
      "text\/plain":[
       "Index(['course_id', 'course_title', 'url', 'is_paid', 'price',\n",
       "       'num_subscribers', 'num_reviews', 'num_lectures', 'level',\n",
       "       'content_duration', 'published_timestamp', 'subject'],\n",
       "      dtype='object')"
      ]
     },
     "metadata":{
      
     },
     "output_type":"display_data"
    }
   ],
   "metadata":{
    "datalore":{
     "node_id":"1Ml2dl1bx5THOPqNworTvv",
     "type":"CODE",
     "hide_input_from_viewers":true,
     "hide_output_from_viewers":true
    }
   }
  },
  {
   "cell_type":"code",
   "source":[
    "idx = df.sort_values(by=\"num_subscribers\", ascending=False).head(10).index\n",
    "df.iloc[idx][\"course_title\"]"
   ],
   "execution_count":137,
   "outputs":[
    {
     "data":{
      "text\/html":[
       "<pre>2833    Twitter Integration customize Tweets with deve...\n",
       "3038    How to create awesome website and e-commerce i...\n",
       "3236               Projects in Node.js - Learn by Example\n",
       "2789                            Learn HTML Fast and Easy!\n",
       "3238    Learn Object Oriented PHP By Building a Comple...\n",
       "1901                               Acoustic Guitar Basics\n",
       "2595                   Practical Guide to Web Development\n",
       "2625    The Complete PHP CodeIgniter Course: Beginner ...\n",
       "3295    Laravel Deployment - Launch your Laravel Appli...\n",
       "3253                             Advanced React and Redux\n",
       "Name: course_title, dtype: object<\/pre>"
      ]
     },
     "metadata":{
      
     },
     "output_type":"display_data"
    }
   ],
   "metadata":{
    "datalore":{
     "node_id":"vn1WwbsVBRYUcz8mjYjmD9",
     "type":"CODE",
     "hide_input_from_viewers":true,
     "hide_output_from_viewers":true
    }
   }
  },
  {
   "cell_type":"markdown",
   "source":[
    "### 15. Find the subject which is having the highest number of reviews"
   ],
   "attachments":{
    
   },
   "metadata":{
    "datalore":{
     "node_id":"8fr3wLzPRgHIIC1iA8um5r",
     "type":"MD",
     "hide_input_from_viewers":true,
     "hide_output_from_viewers":true
    }
   }
  },
  {
   "cell_type":"code",
   "source":[
    "df.columns"
   ],
   "execution_count":75,
   "outputs":[
    {
     "data":{
      "text\/plain":[
       "Index(['course_id', 'course_title', 'url', 'is_paid', 'price',\n",
       "       'num_subscribers', 'num_reviews', 'num_lectures', 'level',\n",
       "       'content_duration', 'published_timestamp', 'subject'],\n",
       "      dtype='object')"
      ]
     },
     "metadata":{
      
     },
     "output_type":"display_data"
    }
   ],
   "metadata":{
    "datalore":{
     "node_id":"Jd259KxZg27pp7LOTjXkXn",
     "type":"CODE",
     "hide_input_from_viewers":true,
     "hide_output_from_viewers":true
    }
   }
  },
  {
   "cell_type":"code",
   "source":[
    "cond = df[\"num_reviews\"].max() == df[\"num_reviews\"]\n",
    "df[cond][\"subject\"]"
   ],
   "execution_count":138,
   "outputs":[
    {
     "data":{
      "text\/html":[
       "<pre>3230    Web Development\n",
       "Name: subject, dtype: object<\/pre>"
      ]
     },
     "metadata":{
      
     },
     "output_type":"display_data"
    }
   ],
   "metadata":{
    "datalore":{
     "node_id":"gbFeSFITExW0pdawble4DR",
     "type":"CODE",
     "hide_input_from_viewers":true,
     "hide_output_from_viewers":true
    }
   }
  },
  {
   "cell_type":"markdown",
   "source":[
    "### 16. Find Total Number of Courses Related To Python"
   ],
   "attachments":{
    
   },
   "metadata":{
    "datalore":{
     "node_id":"sR1zgqqE2YyGnZPM3oFKq4",
     "type":"MD",
     "hide_input_from_viewers":true,
     "hide_output_from_viewers":true
    }
   }
  },
  {
   "cell_type":"code",
   "source":[
    "df.columns"
   ],
   "execution_count":79,
   "outputs":[
    {
     "data":{
      "text\/plain":[
       "Index(['course_id', 'course_title', 'url', 'is_paid', 'price',\n",
       "       'num_subscribers', 'num_reviews', 'num_lectures', 'level',\n",
       "       'content_duration', 'published_timestamp', 'subject'],\n",
       "      dtype='object')"
      ]
     },
     "metadata":{
      
     },
     "output_type":"display_data"
    }
   ],
   "metadata":{
    "datalore":{
     "node_id":"BKTGf0DJqDF3kxI8xXJraN",
     "type":"CODE",
     "hide_input_from_viewers":true,
     "hide_output_from_viewers":true
    }
   }
  },
  {
   "cell_type":"code",
   "source":[
    "py = df[\"course_title\"].str.contains(\"python\", case=False)\n",
    "df[py][\"course_id\"].count()"
   ],
   "execution_count":80,
   "outputs":[
    {
     "data":{
      "text\/plain":[
       "29"
      ]
     },
     "metadata":{
      
     },
     "output_type":"display_data"
    }
   ],
   "metadata":{
    "datalore":{
     "node_id":"EiGGPt9gh99ZPQvQ6C2fMM",
     "type":"CODE",
     "hide_input_from_viewers":true,
     "hide_output_from_viewers":true
    }
   }
  },
  {
   "cell_type":"markdown",
   "source":[
    "### 17. Display 10 most popular Python courses as per number of subscribers"
   ],
   "attachments":{
    
   },
   "metadata":{
    "datalore":{
     "node_id":"lufjV8fNWUgQxE9P1crbBf",
     "type":"MD",
     "hide_input_from_viewers":true,
     "hide_output_from_viewers":true
    }
   }
  },
  {
   "cell_type":"code",
   "source":[
    "py = df[\"course_title\"].str.contains(\"python\", case=False)\n",
    "df[py].sort_values(by=\"num_subscribers\", ascending=False)[\"course_title\"].head(10)"
   ],
   "execution_count":140,
   "outputs":[
    {
     "data":{
      "text\/html":[
       "<pre>2497                          Web Programming with Python\n",
       "2570    Coding for Entrepreneurs: Learn Python, Django...\n",
       "2528          Learn Python and Django: Payment Processing\n",
       "3200    Python and Django Full Stack Web Developer Boo...\n",
       "3507    Fun and creative web engineering with Python a...\n",
       "2553    The Complete Ethical Hacking Course 2.0: Pytho...\n",
       "3138    Complete Python Web Course: Build 8 Python Web...\n",
       "3197    Try Django 1.9 | Build a Blog and Learn Python...\n",
       "2681    Python for Beginners: Python Programming Langu...\n",
       "3203                      REST APIs with Flask and Python\n",
       "Name: course_title, dtype: object<\/pre>"
      ]
     },
     "metadata":{
      
     },
     "output_type":"display_data"
    }
   ],
   "metadata":{
    "datalore":{
     "node_id":"7BCYWOQv0EZfoKIQWf6t32",
     "type":"CODE",
     "hide_input_from_viewers":true,
     "hide_output_from_viewers":true
    }
   }
  },
  {
   "cell_type":"markdown",
   "source":[
    "### 18. What Year the highest number of courses were posted?"
   ],
   "attachments":{
    
   },
   "metadata":{
    "datalore":{
     "node_id":"O5YB735jOiDuI26pAhSoAU",
     "type":"MD",
     "hide_input_from_viewers":true,
     "hide_output_from_viewers":true
    }
   }
  },
  {
   "cell_type":"code",
   "source":[
    "df.columns"
   ],
   "execution_count":82,
   "outputs":[
    {
     "data":{
      "text\/plain":[
       "Index(['course_id', 'course_title', 'url', 'is_paid', 'price',\n",
       "       'num_subscribers', 'num_reviews', 'num_lectures', 'level',\n",
       "       'content_duration', 'published_timestamp', 'subject'],\n",
       "      dtype='object')"
      ]
     },
     "metadata":{
      
     },
     "output_type":"display_data"
    }
   ],
   "metadata":{
    "datalore":{
     "node_id":"pn1OqZqTLSGkCpVyZ3MTWN",
     "type":"CODE",
     "hide_input_from_viewers":true,
     "hide_output_from_viewers":true
    }
   }
  },
  {
   "cell_type":"code",
   "source":[
    "df[\"year\"] = df[\"published_timestamp\"].dt.year\n",
    "df.groupby(\"year\")[\"course_id\"].count()"
   ],
   "execution_count":142,
   "outputs":[
    {
     "data":{
      "text\/html":[
       "<pre>year\n",
       "2011       5\n",
       "2012      45\n",
       "2013     201\n",
       "2014     490\n",
       "2015    1014\n",
       "2016    1204\n",
       "2017     713\n",
       "Name: course_id, dtype: int64<\/pre>"
      ]
     },
     "metadata":{
      
     },
     "output_type":"display_data"
    }
   ],
   "metadata":{
    "datalore":{
     "node_id":"iN3xV1jluhu3CV7c1jPMKL",
     "type":"CODE",
     "hide_input_from_viewers":true,
     "hide_output_from_viewers":true
    }
   }
  },
  {
   "cell_type":"markdown",
   "source":[
    "### 19. Display category-wise count of posted subjects [year wise] "
   ],
   "attachments":{
    
   },
   "metadata":{
    "datalore":{
     "node_id":"6gauBhfbMuX0NiC54IGXWK",
     "type":"MD",
     "hide_input_from_viewers":true,
     "hide_output_from_viewers":true
    }
   }
  },
  {
   "cell_type":"code",
   "source":[
    "df.columns"
   ],
   "execution_count":144,
   "outputs":[
    {
     "data":{
      "text\/plain":[
       "Index(['course_id', 'course_title', 'url', 'is_paid', 'price',\n",
       "       'num_subscribers', 'num_reviews', 'num_lectures', 'level',\n",
       "       'content_duration', 'published_timestamp', 'subject', 'year'],\n",
       "      dtype='object')"
      ]
     },
     "metadata":{
      
     },
     "output_type":"display_data"
    }
   ],
   "metadata":{
    "datalore":{
     "node_id":"3nIr3tXAv8eZPEIoikgLXO",
     "type":"CODE",
     "hide_input_from_viewers":true,
     "hide_output_from_viewers":true
    }
   }
  },
  {
   "cell_type":"code",
   "source":[
    "df[\"year\"]"
   ],
   "execution_count":145,
   "outputs":[
    {
     "data":{
      "text\/html":[
       "<pre>0       2017\n",
       "1       2017\n",
       "2       2016\n",
       "3       2017\n",
       "4       2016\n",
       "        ... \n",
       "3673    2016\n",
       "3674    2017\n",
       "3675    2015\n",
       "3676    2016\n",
       "3677    2014\n",
       "Name: year, Length: 3672, dtype: int64<\/pre>"
      ]
     },
     "metadata":{
      
     },
     "output_type":"display_data"
    }
   ],
   "metadata":{
    "datalore":{
     "node_id":"97TdJwdt2f2v0x3ZVuLP9v",
     "type":"CODE",
     "hide_input_from_viewers":true,
     "hide_output_from_viewers":true
    }
   }
  },
  {
   "cell_type":"code",
   "source":[
    "df.groupby(\"year\")[\"subject\"].count()"
   ],
   "execution_count":149,
   "outputs":[
    {
     "data":{
      "text\/html":[
       "<pre>year\n",
       "2011       5\n",
       "2012      45\n",
       "2013     201\n",
       "2014     490\n",
       "2015    1014\n",
       "2016    1204\n",
       "2017     713\n",
       "Name: subject, dtype: int64<\/pre>"
      ]
     },
     "metadata":{
      
     },
     "output_type":"display_data"
    }
   ],
   "metadata":{
    "datalore":{
     "node_id":"MrxR9nr2cNlsPeut9wvhke",
     "type":"CODE",
     "hide_input_from_viewers":true,
     "hide_output_from_viewers":true
    }
   }
  }
 ],
 "metadata":{
  "kernelspec":{
   "display_name":"Python",
   "language":"python",
   "name":"python"
  },
  "datalore":{
   "computation_mode":"JUPYTER",
   "package_manager":"pip",
   "base_environment":"default",
   "packages":[
    
   ],
   "report_row_ids":[
    "15vwjBug7ZS1YjPVbQjKgt",
    "ruEnQstNHAQoWkmCSk9egR",
    "JpDPgXwDTLmSJUfGFDxgQW",
    "vFNqwCXFoVw40aLNt0M1WK",
    "a262TKNHr5f5JK8MlPb1hG",
    "F58Nqk8bofUstoTt7LvVJy",
    "Bo3DJqwb3gJKhugzrdRdXB",
    "WZXBNmNnhDDtU7fOtiaWkF",
    "NQptsHQNP8xfICi83duinT",
    "qTdfcG5DBFpM3biMRE0JTw",
    "iAuwdNJMtT7Bx7EX0GNjs9",
    "EOFJOrMlxr6MaVeM3FMQ51",
    "2iVVCnKWX4az5U74CNgfSS",
    "6rhavO7MzupQJp4RfpSEhe",
    "GodnQxg9GAQ2GxIuDNiwnx",
    "7BoXo3gm1wBmuQjQJzZD4B",
    "xaqwr8xx2FoARg5H8dbei0"
   ],
   "version":3
  }
 },
 "nbformat":4,
 "nbformat_minor":4
}