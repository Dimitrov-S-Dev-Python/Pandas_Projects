{
 "cells":[
  {
   "cell_type":"markdown",
   "source":[
    "[Download Dataset](https:\/\/www.kaggle.com\/datasets\/lava18\/google-play-store-apps)"
   ],
   "attachments":{
    
   },
   "metadata":{
    "datalore":{
     "node_id":"d9u2dSzlPfTyqR1WHrCmAO",
     "type":"MD",
     "hide_input_from_viewers":false,
     "hide_output_from_viewers":false,
     "report_properties":{
      "rowId":"15vwjBug7ZS1YjPVbQjKgt"
     }
    }
   }
  },
  {
   "cell_type":"code",
   "source":[
    "import pandas as pd"
   ],
   "execution_count":1,
   "outputs":[
    
   ],
   "metadata":{
    "datalore":{
     "node_id":"2bCsXvruOrLmGlkES1btyR",
     "type":"CODE",
     "hide_input_from_viewers":false,
     "hide_output_from_viewers":false,
     "report_properties":{
      "rowId":"ruEnQstNHAQoWkmCSk9egR"
     }
    }
   }
  },
  {
   "cell_type":"code",
   "source":[
    "df = pd.read_csv('googleplaystore.csv')"
   ],
   "execution_count":2,
   "outputs":[
    
   ],
   "metadata":{
    "datalore":{
     "node_id":"9vPz1bJ91QMbNDoIqKHngk",
     "type":"CODE",
     "hide_input_from_viewers":false,
     "hide_output_from_viewers":false,
     "report_properties":{
      "rowId":"JpDPgXwDTLmSJUfGFDxgQW"
     }
    }
   }
  },
  {
   "cell_type":"markdown",
   "source":[
    "### 1. Display top 5 rows of the Dataset"
   ],
   "attachments":{
    
   },
   "metadata":{
    "datalore":{
     "node_id":"zyuskolLbbIMNO9pVutKUx",
     "type":"MD",
     "hide_input_from_viewers":true,
     "hide_output_from_viewers":true
    }
   }
  },
  {
   "cell_type":"code",
   "source":[
    "df.head()"
   ],
   "execution_count":3,
   "outputs":[
    {
     "data":{
      "text\/html":[
       "<div>\n",
       "<style scoped>\n",
       "    .dataframe tbody tr th:only-of-type {\n",
       "        vertical-align: middle;\n",
       "    }\n",
       "\n",
       "    .dataframe tbody tr th {\n",
       "        vertical-align: top;\n",
       "    }\n",
       "\n",
       "    .dataframe thead th {\n",
       "        text-align: right;\n",
       "    }\n",
       "<\/style>\n",
       "<table border=\"1\" class=\"dataframe\">\n",
       "  <thead>\n",
       "    <tr style=\"text-align: right;\">\n",
       "      <th><\/th>\n",
       "      <th>App<\/th>\n",
       "      <th>Category<\/th>\n",
       "      <th>Rating<\/th>\n",
       "      <th>Reviews<\/th>\n",
       "      <th>Size<\/th>\n",
       "      <th>Installs<\/th>\n",
       "      <th>Type<\/th>\n",
       "      <th>Price<\/th>\n",
       "      <th>Content Rating<\/th>\n",
       "      <th>Genres<\/th>\n",
       "      <th>Last Updated<\/th>\n",
       "      <th>Current Ver<\/th>\n",
       "      <th>Android Ver<\/th>\n",
       "    <\/tr>\n",
       "  <\/thead>\n",
       "  <tbody>\n",
       "    <tr>\n",
       "      <th>0<\/th>\n",
       "      <td>Photo Editor &amp; Candy Camera &amp; Grid &amp; ScrapBook<\/td>\n",
       "      <td>ART_AND_DESIGN<\/td>\n",
       "      <td>4.1<\/td>\n",
       "      <td>159<\/td>\n",
       "      <td>19M<\/td>\n",
       "      <td>10,000+<\/td>\n",
       "      <td>Free<\/td>\n",
       "      <td>0<\/td>\n",
       "      <td>Everyone<\/td>\n",
       "      <td>Art &amp; Design<\/td>\n",
       "      <td>January 7, 2018<\/td>\n",
       "      <td>1.0.0<\/td>\n",
       "      <td>4.0.3 and up<\/td>\n",
       "    <\/tr>\n",
       "    <tr>\n",
       "      <th>1<\/th>\n",
       "      <td>Coloring book moana<\/td>\n",
       "      <td>ART_AND_DESIGN<\/td>\n",
       "      <td>3.9<\/td>\n",
       "      <td>967<\/td>\n",
       "      <td>14M<\/td>\n",
       "      <td>500,000+<\/td>\n",
       "      <td>Free<\/td>\n",
       "      <td>0<\/td>\n",
       "      <td>Everyone<\/td>\n",
       "      <td>Art &amp; Design;Pretend Play<\/td>\n",
       "      <td>January 15, 2018<\/td>\n",
       "      <td>2.0.0<\/td>\n",
       "      <td>4.0.3 and up<\/td>\n",
       "    <\/tr>\n",
       "    <tr>\n",
       "      <th>2<\/th>\n",
       "      <td>U Launcher Lite – FREE Live Cool Themes, Hide ...<\/td>\n",
       "      <td>ART_AND_DESIGN<\/td>\n",
       "      <td>4.7<\/td>\n",
       "      <td>87510<\/td>\n",
       "      <td>8.7M<\/td>\n",
       "      <td>5,000,000+<\/td>\n",
       "      <td>Free<\/td>\n",
       "      <td>0<\/td>\n",
       "      <td>Everyone<\/td>\n",
       "      <td>Art &amp; Design<\/td>\n",
       "      <td>August 1, 2018<\/td>\n",
       "      <td>1.2.4<\/td>\n",
       "      <td>4.0.3 and up<\/td>\n",
       "    <\/tr>\n",
       "    <tr>\n",
       "      <th>3<\/th>\n",
       "      <td>Sketch - Draw &amp; Paint<\/td>\n",
       "      <td>ART_AND_DESIGN<\/td>\n",
       "      <td>4.5<\/td>\n",
       "      <td>215644<\/td>\n",
       "      <td>25M<\/td>\n",
       "      <td>50,000,000+<\/td>\n",
       "      <td>Free<\/td>\n",
       "      <td>0<\/td>\n",
       "      <td>Teen<\/td>\n",
       "      <td>Art &amp; Design<\/td>\n",
       "      <td>June 8, 2018<\/td>\n",
       "      <td>Varies with device<\/td>\n",
       "      <td>4.2 and up<\/td>\n",
       "    <\/tr>\n",
       "    <tr>\n",
       "      <th>4<\/th>\n",
       "      <td>Pixel Draw - Number Art Coloring Book<\/td>\n",
       "      <td>ART_AND_DESIGN<\/td>\n",
       "      <td>4.3<\/td>\n",
       "      <td>967<\/td>\n",
       "      <td>2.8M<\/td>\n",
       "      <td>100,000+<\/td>\n",
       "      <td>Free<\/td>\n",
       "      <td>0<\/td>\n",
       "      <td>Everyone<\/td>\n",
       "      <td>Art &amp; Design;Creativity<\/td>\n",
       "      <td>June 20, 2018<\/td>\n",
       "      <td>1.1<\/td>\n",
       "      <td>4.4 and up<\/td>\n",
       "    <\/tr>\n",
       "  <\/tbody>\n",
       "<\/table>\n",
       "<\/div>"
      ]
     },
     "metadata":{
      
     },
     "output_type":"display_data"
    }
   ],
   "metadata":{
    "datalore":{
     "node_id":"i0zTmHl3jMKst6NQnsuX2g",
     "type":"CODE",
     "hide_input_from_viewers":true,
     "hide_output_from_viewers":true
    }
   }
  },
  {
   "cell_type":"markdown",
   "source":[
    "### 2. Check last 3 rows of the Dataset"
   ],
   "attachments":{
    
   },
   "metadata":{
    "datalore":{
     "node_id":"I76zCuXUutwNmSbSrgkhr9",
     "type":"MD",
     "hide_input_from_viewers":false,
     "hide_output_from_viewers":false,
     "report_properties":{
      "rowId":"a262TKNHr5f5JK8MlPb1hG"
     }
    }
   }
  },
  {
   "cell_type":"code",
   "source":[
    "df.tail(3)"
   ],
   "execution_count":4,
   "outputs":[
    {
     "data":{
      "text\/html":[
       "<div>\n",
       "<style scoped>\n",
       "    .dataframe tbody tr th:only-of-type {\n",
       "        vertical-align: middle;\n",
       "    }\n",
       "\n",
       "    .dataframe tbody tr th {\n",
       "        vertical-align: top;\n",
       "    }\n",
       "\n",
       "    .dataframe thead th {\n",
       "        text-align: right;\n",
       "    }\n",
       "<\/style>\n",
       "<table border=\"1\" class=\"dataframe\">\n",
       "  <thead>\n",
       "    <tr style=\"text-align: right;\">\n",
       "      <th><\/th>\n",
       "      <th>App<\/th>\n",
       "      <th>Category<\/th>\n",
       "      <th>Rating<\/th>\n",
       "      <th>Reviews<\/th>\n",
       "      <th>Size<\/th>\n",
       "      <th>Installs<\/th>\n",
       "      <th>Type<\/th>\n",
       "      <th>Price<\/th>\n",
       "      <th>Content Rating<\/th>\n",
       "      <th>Genres<\/th>\n",
       "      <th>Last Updated<\/th>\n",
       "      <th>Current Ver<\/th>\n",
       "      <th>Android Ver<\/th>\n",
       "    <\/tr>\n",
       "  <\/thead>\n",
       "  <tbody>\n",
       "    <tr>\n",
       "      <th>10838<\/th>\n",
       "      <td>Parkinson Exercices FR<\/td>\n",
       "      <td>MEDICAL<\/td>\n",
       "      <td>NaN<\/td>\n",
       "      <td>3<\/td>\n",
       "      <td>9.5M<\/td>\n",
       "      <td>1,000+<\/td>\n",
       "      <td>Free<\/td>\n",
       "      <td>0<\/td>\n",
       "      <td>Everyone<\/td>\n",
       "      <td>Medical<\/td>\n",
       "      <td>January 20, 2017<\/td>\n",
       "      <td>1.0<\/td>\n",
       "      <td>2.2 and up<\/td>\n",
       "    <\/tr>\n",
       "    <tr>\n",
       "      <th>10839<\/th>\n",
       "      <td>The SCP Foundation DB fr nn5n<\/td>\n",
       "      <td>BOOKS_AND_REFERENCE<\/td>\n",
       "      <td>4.5<\/td>\n",
       "      <td>114<\/td>\n",
       "      <td>Varies with device<\/td>\n",
       "      <td>1,000+<\/td>\n",
       "      <td>Free<\/td>\n",
       "      <td>0<\/td>\n",
       "      <td>Mature 17+<\/td>\n",
       "      <td>Books &amp; Reference<\/td>\n",
       "      <td>January 19, 2015<\/td>\n",
       "      <td>Varies with device<\/td>\n",
       "      <td>Varies with device<\/td>\n",
       "    <\/tr>\n",
       "    <tr>\n",
       "      <th>10840<\/th>\n",
       "      <td>iHoroscope - 2018 Daily Horoscope &amp; Astrology<\/td>\n",
       "      <td>LIFESTYLE<\/td>\n",
       "      <td>4.5<\/td>\n",
       "      <td>398307<\/td>\n",
       "      <td>19M<\/td>\n",
       "      <td>10,000,000+<\/td>\n",
       "      <td>Free<\/td>\n",
       "      <td>0<\/td>\n",
       "      <td>Everyone<\/td>\n",
       "      <td>Lifestyle<\/td>\n",
       "      <td>July 25, 2018<\/td>\n",
       "      <td>Varies with device<\/td>\n",
       "      <td>Varies with device<\/td>\n",
       "    <\/tr>\n",
       "  <\/tbody>\n",
       "<\/table>\n",
       "<\/div>"
      ]
     },
     "metadata":{
      
     },
     "output_type":"display_data"
    }
   ],
   "metadata":{
    "datalore":{
     "node_id":"ZcFevKhgeKXvthfi6EMFTq",
     "type":"CODE",
     "hide_input_from_viewers":true,
     "hide_output_from_viewers":true
    }
   }
  },
  {
   "cell_type":"markdown",
   "source":[
    "### 3. Find shape of our Dataset (number of rows & number of columns)"
   ],
   "attachments":{
    
   },
   "metadata":{
    "datalore":{
     "node_id":"9VxqIc1nAuz0mDQzKZ0iji",
     "type":"MD",
     "hide_input_from_viewers":false,
     "hide_output_from_viewers":false,
     "report_properties":{
      "rowId":"F58Nqk8bofUstoTt7LvVJy"
     }
    }
   }
  },
  {
   "cell_type":"code",
   "source":[
    "rows, cols = df.shape\n",
    "print(f\"Number of rows: {rows}\")\n",
    "print(f\"Number of cols: {cols}\")"
   ],
   "execution_count":5,
   "outputs":[
    {
     "name":"stdout",
     "text":[
      "Number of rows: 10841\n",
      "Number of cols: 13\n"
     ],
     "output_type":"stream"
    }
   ],
   "metadata":{
    "datalore":{
     "node_id":"oPlV63ogccUklQmdQzLtpV",
     "type":"CODE",
     "hide_input_from_viewers":true,
     "hide_output_from_viewers":true
    }
   }
  },
  {
   "cell_type":"markdown",
   "source":[
    "### 4.Get information about our Dataset like total number rows, total number of columns, datatypes of each column and memory requirement"
   ],
   "attachments":{
    
   },
   "metadata":{
    "datalore":{
     "node_id":"JAaicoLeODUUTcSwoN6lqs",
     "type":"MD",
     "hide_input_from_viewers":false,
     "hide_output_from_viewers":false,
     "report_properties":{
      "rowId":"Bo3DJqwb3gJKhugzrdRdXB"
     }
    }
   }
  },
  {
   "cell_type":"code",
   "source":[
    "df.info()"
   ],
   "execution_count":6,
   "outputs":[
    {
     "name":"stdout",
     "text":[
      "<class 'pandas.core.frame.DataFrame'>\n",
      "RangeIndex: 10841 entries, 0 to 10840\n",
      "Data columns (total 13 columns):\n",
      " #   Column          Non-Null Count  Dtype  \n",
      "---  ------          --------------  -----  \n",
      " 0   App             10841 non-null  object \n",
      " 1   Category        10841 non-null  object \n",
      " 2   Rating          9367 non-null   float64\n",
      " 3   Reviews         10841 non-null  object \n",
      " 4   Size            10841 non-null  object \n",
      " 5   Installs        10841 non-null  object \n",
      " 6   Type            10840 non-null  object \n",
      " 7   Price           10841 non-null  object \n",
      " 8   Content Rating  10840 non-null  object \n",
      " 9   Genres          10841 non-null  object \n",
      " 10  Last Updated    10841 non-null  object \n",
      " 11  Current Ver     10833 non-null  object \n",
      " 12  Android Ver     10838 non-null  object \n",
      "dtypes: float64(1), object(12)\n",
      "memory usage: 1.1+ MB\n"
     ],
     "output_type":"stream"
    }
   ],
   "metadata":{
    "datalore":{
     "node_id":"ZIWkM7llMvpS9Nz0tUzRLQ",
     "type":"CODE",
     "hide_input_from_viewers":true,
     "hide_output_from_viewers":true
    }
   }
  },
  {
   "cell_type":"markdown",
   "source":[
    "### 5. Get overall statistics about the Dataframe"
   ],
   "attachments":{
    
   },
   "metadata":{
    "datalore":{
     "node_id":"89g1Wbex1T88aYeQApszrR",
     "type":"MD",
     "hide_input_from_viewers":true,
     "hide_output_from_viewers":true
    }
   }
  },
  {
   "cell_type":"code",
   "source":[
    "df.describe(include=\"all\")"
   ],
   "execution_count":7,
   "outputs":[
    {
     "data":{
      "text\/html":[
       "<div>\n",
       "<style scoped>\n",
       "    .dataframe tbody tr th:only-of-type {\n",
       "        vertical-align: middle;\n",
       "    }\n",
       "\n",
       "    .dataframe tbody tr th {\n",
       "        vertical-align: top;\n",
       "    }\n",
       "\n",
       "    .dataframe thead th {\n",
       "        text-align: right;\n",
       "    }\n",
       "<\/style>\n",
       "<table border=\"1\" class=\"dataframe\">\n",
       "  <thead>\n",
       "    <tr style=\"text-align: right;\">\n",
       "      <th><\/th>\n",
       "      <th>App<\/th>\n",
       "      <th>Category<\/th>\n",
       "      <th>Rating<\/th>\n",
       "      <th>Reviews<\/th>\n",
       "      <th>Size<\/th>\n",
       "      <th>Installs<\/th>\n",
       "      <th>Type<\/th>\n",
       "      <th>Price<\/th>\n",
       "      <th>Content Rating<\/th>\n",
       "      <th>Genres<\/th>\n",
       "      <th>Last Updated<\/th>\n",
       "      <th>Current Ver<\/th>\n",
       "      <th>Android Ver<\/th>\n",
       "    <\/tr>\n",
       "  <\/thead>\n",
       "  <tbody>\n",
       "    <tr>\n",
       "      <th>count<\/th>\n",
       "      <td>10841<\/td>\n",
       "      <td>10841<\/td>\n",
       "      <td>9367.000000<\/td>\n",
       "      <td>10841<\/td>\n",
       "      <td>10841<\/td>\n",
       "      <td>10841<\/td>\n",
       "      <td>10840<\/td>\n",
       "      <td>10841<\/td>\n",
       "      <td>10840<\/td>\n",
       "      <td>10841<\/td>\n",
       "      <td>10841<\/td>\n",
       "      <td>10833<\/td>\n",
       "      <td>10838<\/td>\n",
       "    <\/tr>\n",
       "    <tr>\n",
       "      <th>unique<\/th>\n",
       "      <td>9660<\/td>\n",
       "      <td>34<\/td>\n",
       "      <td>NaN<\/td>\n",
       "      <td>6002<\/td>\n",
       "      <td>462<\/td>\n",
       "      <td>22<\/td>\n",
       "      <td>3<\/td>\n",
       "      <td>93<\/td>\n",
       "      <td>6<\/td>\n",
       "      <td>120<\/td>\n",
       "      <td>1378<\/td>\n",
       "      <td>2832<\/td>\n",
       "      <td>33<\/td>\n",
       "    <\/tr>\n",
       "    <tr>\n",
       "      <th>top<\/th>\n",
       "      <td>ROBLOX<\/td>\n",
       "      <td>FAMILY<\/td>\n",
       "      <td>NaN<\/td>\n",
       "      <td>0<\/td>\n",
       "      <td>Varies with device<\/td>\n",
       "      <td>1,000,000+<\/td>\n",
       "      <td>Free<\/td>\n",
       "      <td>0<\/td>\n",
       "      <td>Everyone<\/td>\n",
       "      <td>Tools<\/td>\n",
       "      <td>August 3, 2018<\/td>\n",
       "      <td>Varies with device<\/td>\n",
       "      <td>4.1 and up<\/td>\n",
       "    <\/tr>\n",
       "    <tr>\n",
       "      <th>freq<\/th>\n",
       "      <td>9<\/td>\n",
       "      <td>1972<\/td>\n",
       "      <td>NaN<\/td>\n",
       "      <td>596<\/td>\n",
       "      <td>1695<\/td>\n",
       "      <td>1579<\/td>\n",
       "      <td>10039<\/td>\n",
       "      <td>10040<\/td>\n",
       "      <td>8714<\/td>\n",
       "      <td>842<\/td>\n",
       "      <td>326<\/td>\n",
       "      <td>1459<\/td>\n",
       "      <td>2451<\/td>\n",
       "    <\/tr>\n",
       "    <tr>\n",
       "      <th>mean<\/th>\n",
       "      <td>NaN<\/td>\n",
       "      <td>NaN<\/td>\n",
       "      <td>4.193338<\/td>\n",
       "      <td>NaN<\/td>\n",
       "      <td>NaN<\/td>\n",
       "      <td>NaN<\/td>\n",
       "      <td>NaN<\/td>\n",
       "      <td>NaN<\/td>\n",
       "      <td>NaN<\/td>\n",
       "      <td>NaN<\/td>\n",
       "      <td>NaN<\/td>\n",
       "      <td>NaN<\/td>\n",
       "      <td>NaN<\/td>\n",
       "    <\/tr>\n",
       "    <tr>\n",
       "      <th>std<\/th>\n",
       "      <td>NaN<\/td>\n",
       "      <td>NaN<\/td>\n",
       "      <td>0.537431<\/td>\n",
       "      <td>NaN<\/td>\n",
       "      <td>NaN<\/td>\n",
       "      <td>NaN<\/td>\n",
       "      <td>NaN<\/td>\n",
       "      <td>NaN<\/td>\n",
       "      <td>NaN<\/td>\n",
       "      <td>NaN<\/td>\n",
       "      <td>NaN<\/td>\n",
       "      <td>NaN<\/td>\n",
       "      <td>NaN<\/td>\n",
       "    <\/tr>\n",
       "    <tr>\n",
       "      <th>min<\/th>\n",
       "      <td>NaN<\/td>\n",
       "      <td>NaN<\/td>\n",
       "      <td>1.000000<\/td>\n",
       "      <td>NaN<\/td>\n",
       "      <td>NaN<\/td>\n",
       "      <td>NaN<\/td>\n",
       "      <td>NaN<\/td>\n",
       "      <td>NaN<\/td>\n",
       "      <td>NaN<\/td>\n",
       "      <td>NaN<\/td>\n",
       "      <td>NaN<\/td>\n",
       "      <td>NaN<\/td>\n",
       "      <td>NaN<\/td>\n",
       "    <\/tr>\n",
       "    <tr>\n",
       "      <th>25%<\/th>\n",
       "      <td>NaN<\/td>\n",
       "      <td>NaN<\/td>\n",
       "      <td>4.000000<\/td>\n",
       "      <td>NaN<\/td>\n",
       "      <td>NaN<\/td>\n",
       "      <td>NaN<\/td>\n",
       "      <td>NaN<\/td>\n",
       "      <td>NaN<\/td>\n",
       "      <td>NaN<\/td>\n",
       "      <td>NaN<\/td>\n",
       "      <td>NaN<\/td>\n",
       "      <td>NaN<\/td>\n",
       "      <td>NaN<\/td>\n",
       "    <\/tr>\n",
       "    <tr>\n",
       "      <th>50%<\/th>\n",
       "      <td>NaN<\/td>\n",
       "      <td>NaN<\/td>\n",
       "      <td>4.300000<\/td>\n",
       "      <td>NaN<\/td>\n",
       "      <td>NaN<\/td>\n",
       "      <td>NaN<\/td>\n",
       "      <td>NaN<\/td>\n",
       "      <td>NaN<\/td>\n",
       "      <td>NaN<\/td>\n",
       "      <td>NaN<\/td>\n",
       "      <td>NaN<\/td>\n",
       "      <td>NaN<\/td>\n",
       "      <td>NaN<\/td>\n",
       "    <\/tr>\n",
       "    <tr>\n",
       "      <th>75%<\/th>\n",
       "      <td>NaN<\/td>\n",
       "      <td>NaN<\/td>\n",
       "      <td>4.500000<\/td>\n",
       "      <td>NaN<\/td>\n",
       "      <td>NaN<\/td>\n",
       "      <td>NaN<\/td>\n",
       "      <td>NaN<\/td>\n",
       "      <td>NaN<\/td>\n",
       "      <td>NaN<\/td>\n",
       "      <td>NaN<\/td>\n",
       "      <td>NaN<\/td>\n",
       "      <td>NaN<\/td>\n",
       "      <td>NaN<\/td>\n",
       "    <\/tr>\n",
       "    <tr>\n",
       "      <th>max<\/th>\n",
       "      <td>NaN<\/td>\n",
       "      <td>NaN<\/td>\n",
       "      <td>19.000000<\/td>\n",
       "      <td>NaN<\/td>\n",
       "      <td>NaN<\/td>\n",
       "      <td>NaN<\/td>\n",
       "      <td>NaN<\/td>\n",
       "      <td>NaN<\/td>\n",
       "      <td>NaN<\/td>\n",
       "      <td>NaN<\/td>\n",
       "      <td>NaN<\/td>\n",
       "      <td>NaN<\/td>\n",
       "      <td>NaN<\/td>\n",
       "    <\/tr>\n",
       "  <\/tbody>\n",
       "<\/table>\n",
       "<\/div>"
      ]
     },
     "metadata":{
      
     },
     "output_type":"display_data"
    }
   ],
   "metadata":{
    "datalore":{
     "node_id":"nr5Nqh1inGybz1EAwakmPW",
     "type":"CODE",
     "hide_input_from_viewers":true,
     "hide_output_from_viewers":true
    }
   }
  },
  {
   "cell_type":"markdown",
   "source":[
    "### 6. Total number of app titles contain astrology"
   ],
   "attachments":{
    
   },
   "metadata":{
    "datalore":{
     "node_id":"fyQuupl2PFnqZX8BvbUsnh",
     "type":"MD",
     "hide_input_from_viewers":false,
     "hide_output_from_viewers":false,
     "report_properties":{
      "rowId":"WZXBNmNnhDDtU7fOtiaWkF"
     }
    }
   }
  },
  {
   "cell_type":"code",
   "source":[
    "df.columns"
   ],
   "execution_count":8,
   "outputs":[
    {
     "data":{
      "text\/plain":[
       "Index(['App', 'Category', 'Rating', 'Reviews', 'Size', 'Installs', 'Type',\n",
       "       'Price', 'Content Rating', 'Genres', 'Last Updated', 'Current Ver',\n",
       "       'Android Ver'],\n",
       "      dtype='object')"
      ]
     },
     "metadata":{
      
     },
     "output_type":"display_data"
    }
   ],
   "metadata":{
    "datalore":{
     "node_id":"bgR68iTxRC2lXFf0w0TFwm",
     "type":"CODE",
     "hide_input_from_viewers":true,
     "hide_output_from_viewers":true
    }
   }
  },
  {
   "cell_type":"code",
   "source":[
    "astrology = df[\"App\"].str.contains(\"astrology\", case=False)\n",
    "len(df[astrology])"
   ],
   "execution_count":9,
   "outputs":[
    {
     "data":{
      "text\/plain":[
       "3"
      ]
     },
     "metadata":{
      
     },
     "output_type":"display_data"
    }
   ],
   "metadata":{
    "datalore":{
     "node_id":"wwTlVvlFWPIUFMsL6f1T7K",
     "type":"CODE",
     "hide_input_from_viewers":true,
     "hide_output_from_viewers":true
    }
   }
  },
  {
   "cell_type":"markdown",
   "source":[
    "### 7. Find average app rating"
   ],
   "attachments":{
    
   },
   "metadata":{
    "datalore":{
     "node_id":"C3JnonAGWH4Wmz2ssjTdzk",
     "type":"MD",
     "hide_input_from_viewers":false,
     "hide_output_from_viewers":false,
     "report_properties":{
      "rowId":"NQptsHQNP8xfICi83duinT"
     }
    }
   }
  },
  {
   "cell_type":"code",
   "source":[
    "df.columns"
   ],
   "execution_count":10,
   "outputs":[
    {
     "data":{
      "text\/plain":[
       "Index(['App', 'Category', 'Rating', 'Reviews', 'Size', 'Installs', 'Type',\n",
       "       'Price', 'Content Rating', 'Genres', 'Last Updated', 'Current Ver',\n",
       "       'Android Ver'],\n",
       "      dtype='object')"
      ]
     },
     "metadata":{
      
     },
     "output_type":"display_data"
    }
   ],
   "metadata":{
    "datalore":{
     "node_id":"ocfcEKPSezuuJT09ZOCfdw",
     "type":"CODE",
     "hide_input_from_viewers":true,
     "hide_output_from_viewers":true
    }
   }
  },
  {
   "cell_type":"code",
   "source":[
    "df[\"Rating\"].mean()"
   ],
   "execution_count":11,
   "outputs":[
    {
     "data":{
      "text\/plain":[
       "4.193338315362443"
      ]
     },
     "metadata":{
      
     },
     "output_type":"display_data"
    }
   ],
   "metadata":{
    "datalore":{
     "node_id":"93cxBRQisu3gSMWVqkxVtZ",
     "type":"CODE",
     "hide_input_from_viewers":true,
     "hide_output_from_viewers":true
    }
   }
  },
  {
   "cell_type":"markdown",
   "source":[
    "### 8. Find total number of unique category"
   ],
   "attachments":{
    
   },
   "metadata":{
    "datalore":{
     "node_id":"c4xSE5TrUaScZPXDjIjZLb",
     "type":"MD",
     "hide_input_from_viewers":false,
     "hide_output_from_viewers":false,
     "report_properties":{
      "rowId":"qTdfcG5DBFpM3biMRE0JTw"
     }
    }
   }
  },
  {
   "cell_type":"code",
   "source":[
    "df.columns"
   ],
   "execution_count":12,
   "outputs":[
    {
     "data":{
      "text\/plain":[
       "Index(['App', 'Category', 'Rating', 'Reviews', 'Size', 'Installs', 'Type',\n",
       "       'Price', 'Content Rating', 'Genres', 'Last Updated', 'Current Ver',\n",
       "       'Android Ver'],\n",
       "      dtype='object')"
      ]
     },
     "metadata":{
      
     },
     "output_type":"display_data"
    }
   ],
   "metadata":{
    "datalore":{
     "node_id":"TXnmPBfwUVr22o7RqHB6k3",
     "type":"CODE",
     "hide_input_from_viewers":true,
     "hide_output_from_viewers":true
    }
   }
  },
  {
   "cell_type":"code",
   "source":[
    "df[\"Category\"].nunique()"
   ],
   "execution_count":13,
   "outputs":[
    {
     "data":{
      "text\/plain":[
       "34"
      ]
     },
     "metadata":{
      
     },
     "output_type":"display_data"
    }
   ],
   "metadata":{
    "datalore":{
     "node_id":"816BKJESBKRDD9XOXjnIoV",
     "type":"CODE",
     "hide_input_from_viewers":true,
     "hide_output_from_viewers":true
    }
   }
  },
  {
   "cell_type":"markdown",
   "source":[
    "### 9. Which category getting the highest average rating?"
   ],
   "attachments":{
    
   },
   "metadata":{
    "datalore":{
     "node_id":"XIbQQfJkIz24orddkdRTWi",
     "type":"MD",
     "hide_input_from_viewers":false,
     "hide_output_from_viewers":false,
     "report_properties":{
      "rowId":"iAuwdNJMtT7Bx7EX0GNjs9"
     }
    }
   }
  },
  {
   "cell_type":"code",
   "source":[
    "df.groupby(\"Category\")[\"Rating\"].mean().sort_values(ascending=False)"
   ],
   "execution_count":14,
   "outputs":[
    {
     "data":{
      "text\/html":[
       "<pre>Category\n",
       "1.9                    19.000000\n",
       "EVENTS                  4.435556\n",
       "EDUCATION               4.389032\n",
       "ART_AND_DESIGN          4.358065\n",
       "BOOKS_AND_REFERENCE     4.346067\n",
       "PERSONALIZATION         4.335987\n",
       "PARENTING               4.300000\n",
       "GAME                    4.286326\n",
       "BEAUTY                  4.278571\n",
       "HEALTH_AND_FITNESS      4.277104\n",
       "SHOPPING                4.259664\n",
       "SOCIAL                  4.255598\n",
       "WEATHER                 4.244000\n",
       "SPORTS                  4.223511\n",
       "PRODUCTIVITY            4.211396\n",
       "HOUSE_AND_HOME          4.197368\n",
       "FAMILY                  4.192272\n",
       "PHOTOGRAPHY             4.192114\n",
       "AUTO_AND_VEHICLES       4.190411\n",
       "MEDICAL                 4.189143\n",
       "LIBRARIES_AND_DEMO      4.178462\n",
       "FOOD_AND_DRINK          4.166972\n",
       "COMMUNICATION           4.158537\n",
       "COMICS                  4.155172\n",
       "NEWS_AND_MAGAZINES      4.132189\n",
       "FINANCE                 4.131889\n",
       "ENTERTAINMENT           4.126174\n",
       "BUSINESS                4.121452\n",
       "TRAVEL_AND_LOCAL        4.109292\n",
       "LIFESTYLE               4.094904\n",
       "VIDEO_PLAYERS           4.063750\n",
       "MAPS_AND_NAVIGATION     4.051613\n",
       "TOOLS                   4.047411\n",
       "DATING                  3.970769\n",
       "Name: Rating, dtype: float64<\/pre>"
      ]
     },
     "metadata":{
      
     },
     "output_type":"display_data"
    }
   ],
   "metadata":{
    "datalore":{
     "node_id":"yMDOR8Blec9CvNZlkDWWZl",
     "type":"CODE",
     "hide_input_from_viewers":true,
     "hide_output_from_viewers":true
    }
   }
  },
  {
   "cell_type":"markdown",
   "source":[
    "### 10. Find Total Number of App having 5 Star Rating"
   ],
   "attachments":{
    
   },
   "metadata":{
    "datalore":{
     "node_id":"ZcTjs8Frc1fx1lW7MjMUvD",
     "type":"MD",
     "hide_input_from_viewers":true,
     "hide_output_from_viewers":true
    }
   }
  },
  {
   "cell_type":"code",
   "source":[
    "star = df[\"Rating\"] == 5.0\n",
    "len(df[star])"
   ],
   "execution_count":15,
   "outputs":[
    {
     "data":{
      "text\/plain":[
       "274"
      ]
     },
     "metadata":{
      
     },
     "output_type":"display_data"
    }
   ],
   "metadata":{
    "datalore":{
     "node_id":"CLaRCDlMnC80na4276Q3Uj",
     "type":"CODE",
     "hide_input_from_viewers":true,
     "hide_output_from_viewers":true
    }
   }
  },
  {
   "cell_type":"markdown",
   "source":[
    "### 11. Find Average Value of Reviews"
   ],
   "attachments":{
    
   },
   "metadata":{
    "datalore":{
     "node_id":"GVhoaT0oYLdDEskwyYGPiS",
     "type":"MD",
     "hide_input_from_viewers":true,
     "hide_output_from_viewers":true
    }
   }
  },
  {
   "cell_type":"code",
   "source":[
    "df.columns"
   ],
   "execution_count":16,
   "outputs":[
    {
     "data":{
      "text\/plain":[
       "Index(['App', 'Category', 'Rating', 'Reviews', 'Size', 'Installs', 'Type',\n",
       "       'Price', 'Content Rating', 'Genres', 'Last Updated', 'Current Ver',\n",
       "       'Android Ver'],\n",
       "      dtype='object')"
      ]
     },
     "metadata":{
      
     },
     "output_type":"display_data"
    }
   ],
   "metadata":{
    "datalore":{
     "node_id":"sqjYyPb2PDU9SO7hc8WWal",
     "type":"CODE",
     "hide_input_from_viewers":true,
     "hide_output_from_viewers":true
    }
   }
  },
  {
   "cell_type":"code",
   "source":[
    "df[\"Reviews\"].dtype"
   ],
   "execution_count":17,
   "outputs":[
    {
     "data":{
      "text\/plain":[
       "dtype('O')"
      ]
     },
     "metadata":{
      
     },
     "output_type":"display_data"
    }
   ],
   "metadata":{
    "datalore":{
     "node_id":"XoKCHkaUKJWj0dXaxwpPUq",
     "type":"CODE",
     "hide_input_from_viewers":true,
     "hide_output_from_viewers":true
    }
   }
  },
  {
   "cell_type":"code",
   "source":[
    "check = df[\"Reviews\"] == \"3.0M\"\n",
    "df[check]"
   ],
   "execution_count":18,
   "outputs":[
    {
     "data":{
      "text\/html":[
       "<div>\n",
       "<style scoped>\n",
       "    .dataframe tbody tr th:only-of-type {\n",
       "        vertical-align: middle;\n",
       "    }\n",
       "\n",
       "    .dataframe tbody tr th {\n",
       "        vertical-align: top;\n",
       "    }\n",
       "\n",
       "    .dataframe thead th {\n",
       "        text-align: right;\n",
       "    }\n",
       "<\/style>\n",
       "<table border=\"1\" class=\"dataframe\">\n",
       "  <thead>\n",
       "    <tr style=\"text-align: right;\">\n",
       "      <th><\/th>\n",
       "      <th>App<\/th>\n",
       "      <th>Category<\/th>\n",
       "      <th>Rating<\/th>\n",
       "      <th>Reviews<\/th>\n",
       "      <th>Size<\/th>\n",
       "      <th>Installs<\/th>\n",
       "      <th>Type<\/th>\n",
       "      <th>Price<\/th>\n",
       "      <th>Content Rating<\/th>\n",
       "      <th>Genres<\/th>\n",
       "      <th>Last Updated<\/th>\n",
       "      <th>Current Ver<\/th>\n",
       "      <th>Android Ver<\/th>\n",
       "    <\/tr>\n",
       "  <\/thead>\n",
       "  <tbody>\n",
       "    <tr>\n",
       "      <th>10472<\/th>\n",
       "      <td>Life Made WI-Fi Touchscreen Photo Frame<\/td>\n",
       "      <td>1.9<\/td>\n",
       "      <td>19.0<\/td>\n",
       "      <td>3.0M<\/td>\n",
       "      <td>1,000+<\/td>\n",
       "      <td>Free<\/td>\n",
       "      <td>0<\/td>\n",
       "      <td>Everyone<\/td>\n",
       "      <td>NaN<\/td>\n",
       "      <td>February 11, 2018<\/td>\n",
       "      <td>1.0.19<\/td>\n",
       "      <td>4.0 and up<\/td>\n",
       "      <td>NaN<\/td>\n",
       "    <\/tr>\n",
       "  <\/tbody>\n",
       "<\/table>\n",
       "<\/div>"
      ]
     },
     "metadata":{
      
     },
     "output_type":"display_data"
    }
   ],
   "metadata":{
    "datalore":{
     "node_id":"4QPiPtBxcJttcoNNSwN44J",
     "type":"CODE",
     "hide_input_from_viewers":true,
     "hide_output_from_viewers":true
    }
   }
  },
  {
   "cell_type":"code",
   "source":[
    "df[\"Reviews\"] = df[\"Reviews\"].replace(\"3.0M\", \"3.0\")"
   ],
   "execution_count":19,
   "outputs":[
    
   ],
   "metadata":{
    "datalore":{
     "node_id":"4oB5Q0rkwGn9qzO17t1V5j",
     "type":"CODE",
     "hide_input_from_viewers":true,
     "hide_output_from_viewers":true
    }
   }
  },
  {
   "cell_type":"code",
   "source":[
    "df[\"Reviews\"] = df[\"Reviews\"].astype(\"float\")\n",
    "df[\"Reviews\"].mean()"
   ],
   "execution_count":20,
   "outputs":[
    {
     "data":{
      "text\/plain":[
       "444111.9265750392"
      ]
     },
     "metadata":{
      
     },
     "output_type":"display_data"
    }
   ],
   "metadata":{
    "datalore":{
     "node_id":"PO3fpGgYBTMQAoSpVSOIFe",
     "type":"CODE",
     "hide_input_from_viewers":true,
     "hide_output_from_viewers":true
    }
   }
  },
  {
   "cell_type":"markdown",
   "source":[
    "### 12. Find Total Number of Free and Paid Apps"
   ],
   "attachments":{
    
   },
   "metadata":{
    "datalore":{
     "node_id":"vDbQzzTmT9lC8ITumt0SGz",
     "type":"MD",
     "hide_input_from_viewers":true,
     "hide_output_from_viewers":true
    }
   }
  },
  {
   "cell_type":"code",
   "source":[
    "df.columns"
   ],
   "execution_count":21,
   "outputs":[
    {
     "data":{
      "text\/plain":[
       "Index(['App', 'Category', 'Rating', 'Reviews', 'Size', 'Installs', 'Type',\n",
       "       'Price', 'Content Rating', 'Genres', 'Last Updated', 'Current Ver',\n",
       "       'Android Ver'],\n",
       "      dtype='object')"
      ]
     },
     "metadata":{
      
     },
     "output_type":"display_data"
    }
   ],
   "metadata":{
    "datalore":{
     "node_id":"cx3KO5o9a9tEVWRJHxRbiE",
     "type":"CODE",
     "hide_input_from_viewers":true,
     "hide_output_from_viewers":true
    }
   }
  },
  {
   "cell_type":"code",
   "source":[
    "df[\"Type\"].value_counts()"
   ],
   "execution_count":22,
   "outputs":[
    {
     "data":{
      "text\/html":[
       "<pre>Free    10039\n",
       "Paid      800\n",
       "0           1\n",
       "Name: Type, dtype: int64<\/pre>"
      ]
     },
     "metadata":{
      
     },
     "output_type":"display_data"
    }
   ],
   "metadata":{
    "datalore":{
     "node_id":"PQoqd1gBfjPEtG71i7ckCR",
     "type":"CODE",
     "hide_input_from_viewers":true,
     "hide_output_from_viewers":true
    }
   }
  },
  {
   "cell_type":"markdown",
   "source":[
    "### 13. Which App Has Maximum Reviews?"
   ],
   "attachments":{
    
   },
   "metadata":{
    "datalore":{
     "node_id":"6kyOnjixyf382tcrNeqb3S",
     "type":"MD",
     "hide_input_from_viewers":true,
     "hide_output_from_viewers":true
    }
   }
  },
  {
   "cell_type":"code",
   "source":[
    "max_rev = df[\"Reviews\"].max() == df[\"Reviews\"]\n",
    "df[max_rev][\"App\"]"
   ],
   "execution_count":23,
   "outputs":[
    {
     "data":{
      "text\/html":[
       "<pre>2544    Facebook\n",
       "Name: App, dtype: object<\/pre>"
      ]
     },
     "metadata":{
      
     },
     "output_type":"display_data"
    }
   ],
   "metadata":{
    "datalore":{
     "node_id":"mrbSf7rL52Tziwy9JlKYQp",
     "type":"CODE",
     "hide_input_from_viewers":true,
     "hide_output_from_viewers":true
    }
   }
  },
  {
   "cell_type":"markdown",
   "source":[
    "### 14. Display Top 5 Apps Having Highest Reviews"
   ],
   "attachments":{
    
   },
   "metadata":{
    "datalore":{
     "node_id":"RLxUH6mbfOj8xzgOaitWB5",
     "type":"MD",
     "hide_input_from_viewers":true,
     "hide_output_from_viewers":true
    }
   }
  },
  {
   "cell_type":"code",
   "source":[
    "index = df[\"Reviews\"].sort_values(ascending=False).head().index\n",
    "df.iloc[index][\"App\"]"
   ],
   "execution_count":24,
   "outputs":[
    {
     "data":{
      "text\/html":[
       "<pre>2544              Facebook\n",
       "3943              Facebook\n",
       "381     WhatsApp Messenger\n",
       "336     WhatsApp Messenger\n",
       "3904    WhatsApp Messenger\n",
       "Name: App, dtype: object<\/pre>"
      ]
     },
     "metadata":{
      
     },
     "output_type":"display_data"
    }
   ],
   "metadata":{
    "datalore":{
     "node_id":"A367xqkMZqs71mfFiJHJHg",
     "type":"CODE",
     "hide_input_from_viewers":true,
     "hide_output_from_viewers":true
    }
   }
  },
  {
   "cell_type":"markdown",
   "source":[
    "### 15. Find Average Rating of Free and Paid Apps"
   ],
   "attachments":{
    
   },
   "metadata":{
    "datalore":{
     "node_id":"8fr3wLzPRgHIIC1iA8um5r",
     "type":"MD",
     "hide_input_from_viewers":true,
     "hide_output_from_viewers":true
    }
   }
  },
  {
   "cell_type":"code",
   "source":[
    "df.groupby(\"Type\")[\"Rating\"].mean()"
   ],
   "execution_count":25,
   "outputs":[
    {
     "data":{
      "text\/html":[
       "<pre>Type\n",
       "0       19.000000\n",
       "Free     4.186203\n",
       "Paid     4.266615\n",
       "Name: Rating, dtype: float64<\/pre>"
      ]
     },
     "metadata":{
      
     },
     "output_type":"display_data"
    }
   ],
   "metadata":{
    "datalore":{
     "node_id":"8kiVnF64u6w09HsXHV4auG",
     "type":"CODE",
     "hide_input_from_viewers":true,
     "hide_output_from_viewers":true
    }
   }
  },
  {
   "cell_type":"markdown",
   "source":[
    "### 16. Display Top  5 Apps Having Maximum Installs"
   ],
   "attachments":{
    
   },
   "metadata":{
    "datalore":{
     "node_id":"X9AZkJJWxJc2bHYmZGNWjn",
     "type":"MD",
     "hide_input_from_viewers":true,
     "hide_output_from_viewers":true
    }
   }
  },
  {
   "cell_type":"code",
   "source":[
    "df.columns"
   ],
   "execution_count":26,
   "outputs":[
    {
     "data":{
      "text\/plain":[
       "Index(['App', 'Category', 'Rating', 'Reviews', 'Size', 'Installs', 'Type',\n",
       "       'Price', 'Content Rating', 'Genres', 'Last Updated', 'Current Ver',\n",
       "       'Android Ver'],\n",
       "      dtype='object')"
      ]
     },
     "metadata":{
      
     },
     "output_type":"display_data"
    }
   ],
   "metadata":{
    "datalore":{
     "node_id":"hvm34lIhCEY86aOikrriUH",
     "type":"CODE",
     "hide_input_from_viewers":true,
     "hide_output_from_viewers":true
    }
   }
  },
  {
   "cell_type":"code",
   "source":[
    "df[\"Installs\"].dtype"
   ],
   "execution_count":27,
   "outputs":[
    {
     "data":{
      "text\/plain":[
       "dtype('O')"
      ]
     },
     "metadata":{
      
     },
     "output_type":"display_data"
    }
   ],
   "metadata":{
    "datalore":{
     "node_id":"qlv2hlQTmRQFhvgfqwfBVS",
     "type":"CODE",
     "hide_input_from_viewers":true,
     "hide_output_from_viewers":true
    }
   }
  },
  {
   "cell_type":"code",
   "source":[
    "df[\"Installs\"] = df[\"Installs\"].str.replace(\",\", \"\")"
   ],
   "execution_count":28,
   "outputs":[
    
   ],
   "metadata":{
    "datalore":{
     "node_id":"AI9UGKk6M0zrJfrbXI4KFv",
     "type":"CODE",
     "hide_input_from_viewers":true,
     "hide_output_from_viewers":true
    }
   }
  },
  {
   "cell_type":"code",
   "source":[
    "df[\"Installs\"] = df[\"Installs\"].str.replace(\"+\", \"\", regex=True)"
   ],
   "execution_count":29,
   "outputs":[
    
   ],
   "metadata":{
    "datalore":{
     "node_id":"r3jlRM9g6vrj7D7olekPH8",
     "type":"CODE",
     "hide_input_from_viewers":true,
     "hide_output_from_viewers":true
    }
   }
  },
  {
   "cell_type":"code",
   "source":[
    "df[\"Installs\"] = df[\"Installs\"].str.replace(\"Free\", \"0\", regex=True)"
   ],
   "execution_count":30,
   "outputs":[
    
   ],
   "metadata":{
    "datalore":{
     "node_id":"TTEX0yA0HfimsQqJhJ9G8d",
     "type":"CODE",
     "hide_input_from_viewers":true,
     "hide_output_from_viewers":true
    }
   }
  },
  {
   "cell_type":"code",
   "source":[
    "df[\"Installs\"] = df[\"Installs\"].astype(\"int\")"
   ],
   "execution_count":31,
   "outputs":[
    
   ],
   "metadata":{
    "datalore":{
     "node_id":"lpHdeARR4uwEjq0NCGf7MH",
     "type":"CODE",
     "hide_input_from_viewers":true,
     "hide_output_from_viewers":true
    }
   }
  },
  {
   "cell_type":"code",
   "source":[
    "index = df[\"Reviews\"].sort_values(ascending=False).head().index\n",
    "df.iloc[index][\"App\"]"
   ],
   "execution_count":32,
   "outputs":[
    {
     "data":{
      "text\/html":[
       "<pre>2544              Facebook\n",
       "3943              Facebook\n",
       "381     WhatsApp Messenger\n",
       "336     WhatsApp Messenger\n",
       "3904    WhatsApp Messenger\n",
       "Name: App, dtype: object<\/pre>"
      ]
     },
     "metadata":{
      
     },
     "output_type":"display_data"
    }
   ],
   "metadata":{
    "datalore":{
     "node_id":"PMtYJWKJjoWquAYJbo9qDN",
     "type":"CODE",
     "hide_input_from_viewers":true,
     "hide_output_from_viewers":true
    }
   }
  },
  {
   "cell_type":"code",
   "source":[
    "df.dtypes"
   ],
   "execution_count":33,
   "outputs":[
    {
     "data":{
      "text\/html":[
       "<pre>App                object\n",
       "Category           object\n",
       "Rating            float64\n",
       "Reviews           float64\n",
       "Size               object\n",
       "Installs            int64\n",
       "Type               object\n",
       "Price              object\n",
       "Content Rating     object\n",
       "Genres             object\n",
       "Last Updated       object\n",
       "Current Ver        object\n",
       "Android Ver        object\n",
       "dtype: object<\/pre>"
      ]
     },
     "metadata":{
      
     },
     "output_type":"display_data"
    }
   ],
   "metadata":{
    "datalore":{
     "node_id":"sRLFT3Q9DVPMXPK7LNzEFE",
     "type":"CODE",
     "hide_input_from_viewers":true,
     "hide_output_from_viewers":true
    }
   }
  },
  {
   "cell_type":"code",
   "source":[
    
   ],
   "execution_count":0,
   "outputs":[
    
   ],
   "metadata":{
    "datalore":{
     "node_id":"3f6f0FIObuZln8xfMV0V8I",
     "type":"CODE",
     "hide_input_from_viewers":true,
     "hide_output_from_viewers":true
    }
   }
  }
 ],
 "metadata":{
  "kernelspec":{
   "display_name":"Python",
   "language":"python",
   "name":"python"
  },
  "datalore":{
   "computation_mode":"JUPYTER",
   "package_manager":"pip",
   "base_environment":"default",
   "packages":[
    
   ],
   "report_row_ids":[
    "15vwjBug7ZS1YjPVbQjKgt",
    "ruEnQstNHAQoWkmCSk9egR",
    "JpDPgXwDTLmSJUfGFDxgQW",
    "vFNqwCXFoVw40aLNt0M1WK",
    "a262TKNHr5f5JK8MlPb1hG",
    "F58Nqk8bofUstoTt7LvVJy",
    "Bo3DJqwb3gJKhugzrdRdXB",
    "WZXBNmNnhDDtU7fOtiaWkF",
    "NQptsHQNP8xfICi83duinT",
    "qTdfcG5DBFpM3biMRE0JTw",
    "iAuwdNJMtT7Bx7EX0GNjs9",
    "EOFJOrMlxr6MaVeM3FMQ51",
    "2iVVCnKWX4az5U74CNgfSS",
    "6rhavO7MzupQJp4RfpSEhe",
    "GodnQxg9GAQ2GxIuDNiwnx",
    "7BoXo3gm1wBmuQjQJzZD4B",
    "xaqwr8xx2FoARg5H8dbei0"
   ],
   "version":3
  }
 },
 "nbformat":4,
 "nbformat_minor":4
}